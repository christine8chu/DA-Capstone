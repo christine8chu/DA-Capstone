{
 "cells": [
  {
   "cell_type": "code",
   "execution_count": 1,
   "metadata": {},
   "outputs": [],
   "source": [
    "#imports\n",
    "#numpy, pandas, scipy, math, matplotlib \n",
    "import numpy as np \n",
    "import pandas as pd \n",
    "import scipy \n",
    "from math import sqrt \n",
    "import matplotlib.pyplot as plt\n",
    "\n",
    "#estimators \n",
    "from sklearn.ensemble import RandomForestRegressor\n",
    "from sklearn.ensemble import GradientBoostingRegressor\n",
    "from sklearn.svm import SVR\n",
    "from sklearn.neighbors import KNeighborsRegressor\n",
    "from sklearn.ensemble import RandomForestClassifier\n",
    "from sklearn.ensemble import GradientBoostingClassifier\n",
    "from sklearn.svm import SVC\n",
    "from sklearn.neighbors import KNeighborsClassifier\n",
    "\n",
    "#feature selection\n",
    "from sklearn.feature_selection import RFECV\n",
    "from sklearn.feature_selection import VarianceThreshold\n",
    "from sklearn.decomposition import PCA\n",
    "\n",
    "#model metrics \n",
    "from sklearn.model_selection import cross_val_score\n",
    "from sklearn.metrics import mean_squared_error\n",
    "from sklearn.metrics import r2_score\n",
    "from sklearn import metrics\n",
    "from sklearn.metrics import classification_report\n",
    "from sklearn.metrics import confusion_matrix\n",
    "from sklearn.metrics import cohen_kappa_score\n",
    "\n",
    "#cross validation \n",
    "from sklearn.model_selection import train_test_split\n",
    "from sklearn.preprocessing import StandardScaler, LabelEncoder\n",
    "from sklearn.model_selection import GridSearchCV"
   ]
  },
  {
   "cell_type": "code",
   "execution_count": 2,
   "metadata": {},
   "outputs": [
    {
     "data": {
      "text/html": [
       "<div>\n",
       "<style scoped>\n",
       "    .dataframe tbody tr th:only-of-type {\n",
       "        vertical-align: middle;\n",
       "    }\n",
       "\n",
       "    .dataframe tbody tr th {\n",
       "        vertical-align: top;\n",
       "    }\n",
       "\n",
       "    .dataframe thead th {\n",
       "        text-align: right;\n",
       "    }\n",
       "</style>\n",
       "<table border=\"1\" class=\"dataframe\">\n",
       "  <thead>\n",
       "    <tr style=\"text-align: right;\">\n",
       "      <th></th>\n",
       "      <th>WAP001</th>\n",
       "      <th>WAP002</th>\n",
       "      <th>WAP003</th>\n",
       "      <th>WAP004</th>\n",
       "      <th>WAP005</th>\n",
       "      <th>WAP006</th>\n",
       "      <th>WAP007</th>\n",
       "      <th>WAP008</th>\n",
       "      <th>WAP009</th>\n",
       "      <th>WAP010</th>\n",
       "      <th>...</th>\n",
       "      <th>WAP520</th>\n",
       "      <th>LONGITUDE</th>\n",
       "      <th>LATITUDE</th>\n",
       "      <th>FLOOR</th>\n",
       "      <th>BUILDINGID</th>\n",
       "      <th>SPACEID</th>\n",
       "      <th>RELATIVEPOSITION</th>\n",
       "      <th>USERID</th>\n",
       "      <th>PHONEID</th>\n",
       "      <th>TIMESTAMP</th>\n",
       "    </tr>\n",
       "  </thead>\n",
       "  <tbody>\n",
       "    <tr>\n",
       "      <td>0</td>\n",
       "      <td>100</td>\n",
       "      <td>100</td>\n",
       "      <td>100</td>\n",
       "      <td>100</td>\n",
       "      <td>100</td>\n",
       "      <td>100</td>\n",
       "      <td>100</td>\n",
       "      <td>100</td>\n",
       "      <td>100</td>\n",
       "      <td>100</td>\n",
       "      <td>...</td>\n",
       "      <td>100</td>\n",
       "      <td>-7541.2643</td>\n",
       "      <td>4.864921e+06</td>\n",
       "      <td>2</td>\n",
       "      <td>1</td>\n",
       "      <td>106</td>\n",
       "      <td>2</td>\n",
       "      <td>2</td>\n",
       "      <td>23</td>\n",
       "      <td>1371713733</td>\n",
       "    </tr>\n",
       "    <tr>\n",
       "      <td>1</td>\n",
       "      <td>100</td>\n",
       "      <td>100</td>\n",
       "      <td>100</td>\n",
       "      <td>100</td>\n",
       "      <td>100</td>\n",
       "      <td>100</td>\n",
       "      <td>100</td>\n",
       "      <td>100</td>\n",
       "      <td>100</td>\n",
       "      <td>100</td>\n",
       "      <td>...</td>\n",
       "      <td>100</td>\n",
       "      <td>-7536.6212</td>\n",
       "      <td>4.864934e+06</td>\n",
       "      <td>2</td>\n",
       "      <td>1</td>\n",
       "      <td>106</td>\n",
       "      <td>2</td>\n",
       "      <td>2</td>\n",
       "      <td>23</td>\n",
       "      <td>1371713691</td>\n",
       "    </tr>\n",
       "    <tr>\n",
       "      <td>2</td>\n",
       "      <td>100</td>\n",
       "      <td>100</td>\n",
       "      <td>100</td>\n",
       "      <td>100</td>\n",
       "      <td>100</td>\n",
       "      <td>100</td>\n",
       "      <td>100</td>\n",
       "      <td>-97</td>\n",
       "      <td>100</td>\n",
       "      <td>100</td>\n",
       "      <td>...</td>\n",
       "      <td>100</td>\n",
       "      <td>-7519.1524</td>\n",
       "      <td>4.864950e+06</td>\n",
       "      <td>2</td>\n",
       "      <td>1</td>\n",
       "      <td>103</td>\n",
       "      <td>2</td>\n",
       "      <td>2</td>\n",
       "      <td>23</td>\n",
       "      <td>1371714095</td>\n",
       "    </tr>\n",
       "    <tr>\n",
       "      <td>3</td>\n",
       "      <td>100</td>\n",
       "      <td>100</td>\n",
       "      <td>100</td>\n",
       "      <td>100</td>\n",
       "      <td>100</td>\n",
       "      <td>100</td>\n",
       "      <td>100</td>\n",
       "      <td>100</td>\n",
       "      <td>100</td>\n",
       "      <td>100</td>\n",
       "      <td>...</td>\n",
       "      <td>100</td>\n",
       "      <td>-7524.5704</td>\n",
       "      <td>4.864934e+06</td>\n",
       "      <td>2</td>\n",
       "      <td>1</td>\n",
       "      <td>102</td>\n",
       "      <td>2</td>\n",
       "      <td>2</td>\n",
       "      <td>23</td>\n",
       "      <td>1371713807</td>\n",
       "    </tr>\n",
       "    <tr>\n",
       "      <td>4</td>\n",
       "      <td>100</td>\n",
       "      <td>100</td>\n",
       "      <td>100</td>\n",
       "      <td>100</td>\n",
       "      <td>100</td>\n",
       "      <td>100</td>\n",
       "      <td>100</td>\n",
       "      <td>100</td>\n",
       "      <td>100</td>\n",
       "      <td>100</td>\n",
       "      <td>...</td>\n",
       "      <td>100</td>\n",
       "      <td>-7632.1436</td>\n",
       "      <td>4.864982e+06</td>\n",
       "      <td>0</td>\n",
       "      <td>0</td>\n",
       "      <td>122</td>\n",
       "      <td>2</td>\n",
       "      <td>11</td>\n",
       "      <td>13</td>\n",
       "      <td>1369909710</td>\n",
       "    </tr>\n",
       "  </tbody>\n",
       "</table>\n",
       "<p>5 rows × 529 columns</p>\n",
       "</div>"
      ],
      "text/plain": [
       "   WAP001  WAP002  WAP003  WAP004  WAP005  WAP006  WAP007  WAP008  WAP009  \\\n",
       "0     100     100     100     100     100     100     100     100     100   \n",
       "1     100     100     100     100     100     100     100     100     100   \n",
       "2     100     100     100     100     100     100     100     -97     100   \n",
       "3     100     100     100     100     100     100     100     100     100   \n",
       "4     100     100     100     100     100     100     100     100     100   \n",
       "\n",
       "   WAP010  ...  WAP520  LONGITUDE      LATITUDE  FLOOR  BUILDINGID  SPACEID  \\\n",
       "0     100  ...     100 -7541.2643  4.864921e+06      2           1      106   \n",
       "1     100  ...     100 -7536.6212  4.864934e+06      2           1      106   \n",
       "2     100  ...     100 -7519.1524  4.864950e+06      2           1      103   \n",
       "3     100  ...     100 -7524.5704  4.864934e+06      2           1      102   \n",
       "4     100  ...     100 -7632.1436  4.864982e+06      0           0      122   \n",
       "\n",
       "   RELATIVEPOSITION  USERID  PHONEID   TIMESTAMP  \n",
       "0                 2       2       23  1371713733  \n",
       "1                 2       2       23  1371713691  \n",
       "2                 2       2       23  1371714095  \n",
       "3                 2       2       23  1371713807  \n",
       "4                 2      11       13  1369909710  \n",
       "\n",
       "[5 rows x 529 columns]"
      ]
     },
     "execution_count": 2,
     "metadata": {},
     "output_type": "execute_result"
    }
   ],
   "source": [
    "rawData = pd.read_csv('trainingData.csv', header=0)\n",
    "rawData.head()"
   ]
  },
  {
   "cell_type": "code",
   "execution_count": 3,
   "metadata": {},
   "outputs": [
    {
     "name": "stdout",
     "output_type": "stream",
     "text": [
      "<class 'pandas.core.frame.DataFrame'>\n",
      "RangeIndex: 19937 entries, 0 to 19936\n",
      "Columns: 529 entries, WAP001 to TIMESTAMP\n",
      "dtypes: float64(2), int64(527)\n",
      "memory usage: 80.5 MB\n"
     ]
    }
   ],
   "source": [
    "rawData.info()"
   ]
  },
  {
   "cell_type": "code",
   "execution_count": 4,
   "metadata": {},
   "outputs": [
    {
     "data": {
      "text/html": [
       "<div>\n",
       "<style scoped>\n",
       "    .dataframe tbody tr th:only-of-type {\n",
       "        vertical-align: middle;\n",
       "    }\n",
       "\n",
       "    .dataframe tbody tr th {\n",
       "        vertical-align: top;\n",
       "    }\n",
       "\n",
       "    .dataframe thead th {\n",
       "        text-align: right;\n",
       "    }\n",
       "</style>\n",
       "<table border=\"1\" class=\"dataframe\">\n",
       "  <thead>\n",
       "    <tr style=\"text-align: right;\">\n",
       "      <th></th>\n",
       "      <th>WAP001</th>\n",
       "      <th>WAP002</th>\n",
       "      <th>WAP003</th>\n",
       "      <th>WAP004</th>\n",
       "      <th>WAP005</th>\n",
       "      <th>WAP006</th>\n",
       "      <th>WAP007</th>\n",
       "      <th>WAP008</th>\n",
       "      <th>WAP009</th>\n",
       "      <th>WAP010</th>\n",
       "      <th>...</th>\n",
       "      <th>WAP520</th>\n",
       "      <th>LONGITUDE</th>\n",
       "      <th>LATITUDE</th>\n",
       "      <th>FLOOR</th>\n",
       "      <th>BUILDINGID</th>\n",
       "      <th>SPACEID</th>\n",
       "      <th>RELATIVEPOSITION</th>\n",
       "      <th>USERID</th>\n",
       "      <th>PHONEID</th>\n",
       "      <th>TIMESTAMP</th>\n",
       "    </tr>\n",
       "  </thead>\n",
       "  <tbody>\n",
       "    <tr>\n",
       "      <td>count</td>\n",
       "      <td>19937.000000</td>\n",
       "      <td>19937.000000</td>\n",
       "      <td>19937.0</td>\n",
       "      <td>19937.0</td>\n",
       "      <td>19937.000000</td>\n",
       "      <td>19937.000000</td>\n",
       "      <td>19937.000000</td>\n",
       "      <td>19937.000000</td>\n",
       "      <td>19937.000000</td>\n",
       "      <td>19937.000000</td>\n",
       "      <td>...</td>\n",
       "      <td>19937.0</td>\n",
       "      <td>19937.000000</td>\n",
       "      <td>1.993700e+04</td>\n",
       "      <td>19937.000000</td>\n",
       "      <td>19937.000000</td>\n",
       "      <td>19937.000000</td>\n",
       "      <td>19937.000000</td>\n",
       "      <td>19937.000000</td>\n",
       "      <td>19937.000000</td>\n",
       "      <td>1.993700e+04</td>\n",
       "    </tr>\n",
       "    <tr>\n",
       "      <td>mean</td>\n",
       "      <td>99.823644</td>\n",
       "      <td>99.820936</td>\n",
       "      <td>100.0</td>\n",
       "      <td>100.0</td>\n",
       "      <td>99.613733</td>\n",
       "      <td>97.130461</td>\n",
       "      <td>94.733661</td>\n",
       "      <td>93.820234</td>\n",
       "      <td>94.693936</td>\n",
       "      <td>99.163766</td>\n",
       "      <td>...</td>\n",
       "      <td>100.0</td>\n",
       "      <td>-7464.275947</td>\n",
       "      <td>4.864871e+06</td>\n",
       "      <td>1.674575</td>\n",
       "      <td>1.212820</td>\n",
       "      <td>148.429954</td>\n",
       "      <td>1.833024</td>\n",
       "      <td>9.068014</td>\n",
       "      <td>13.021869</td>\n",
       "      <td>1.371421e+09</td>\n",
       "    </tr>\n",
       "    <tr>\n",
       "      <td>std</td>\n",
       "      <td>5.866842</td>\n",
       "      <td>5.798156</td>\n",
       "      <td>0.0</td>\n",
       "      <td>0.0</td>\n",
       "      <td>8.615657</td>\n",
       "      <td>22.931890</td>\n",
       "      <td>30.541335</td>\n",
       "      <td>33.010404</td>\n",
       "      <td>30.305084</td>\n",
       "      <td>12.634045</td>\n",
       "      <td>...</td>\n",
       "      <td>0.0</td>\n",
       "      <td>123.402010</td>\n",
       "      <td>6.693318e+01</td>\n",
       "      <td>1.223078</td>\n",
       "      <td>0.833139</td>\n",
       "      <td>58.342106</td>\n",
       "      <td>0.372964</td>\n",
       "      <td>4.988720</td>\n",
       "      <td>5.362410</td>\n",
       "      <td>5.572054e+05</td>\n",
       "    </tr>\n",
       "    <tr>\n",
       "      <td>min</td>\n",
       "      <td>-97.000000</td>\n",
       "      <td>-90.000000</td>\n",
       "      <td>100.0</td>\n",
       "      <td>100.0</td>\n",
       "      <td>-97.000000</td>\n",
       "      <td>-98.000000</td>\n",
       "      <td>-99.000000</td>\n",
       "      <td>-98.000000</td>\n",
       "      <td>-98.000000</td>\n",
       "      <td>-99.000000</td>\n",
       "      <td>...</td>\n",
       "      <td>100.0</td>\n",
       "      <td>-7691.338400</td>\n",
       "      <td>4.864746e+06</td>\n",
       "      <td>0.000000</td>\n",
       "      <td>0.000000</td>\n",
       "      <td>1.000000</td>\n",
       "      <td>1.000000</td>\n",
       "      <td>1.000000</td>\n",
       "      <td>1.000000</td>\n",
       "      <td>1.369909e+09</td>\n",
       "    </tr>\n",
       "    <tr>\n",
       "      <td>25%</td>\n",
       "      <td>100.000000</td>\n",
       "      <td>100.000000</td>\n",
       "      <td>100.0</td>\n",
       "      <td>100.0</td>\n",
       "      <td>100.000000</td>\n",
       "      <td>100.000000</td>\n",
       "      <td>100.000000</td>\n",
       "      <td>100.000000</td>\n",
       "      <td>100.000000</td>\n",
       "      <td>100.000000</td>\n",
       "      <td>...</td>\n",
       "      <td>100.0</td>\n",
       "      <td>-7594.737000</td>\n",
       "      <td>4.864821e+06</td>\n",
       "      <td>1.000000</td>\n",
       "      <td>0.000000</td>\n",
       "      <td>110.000000</td>\n",
       "      <td>2.000000</td>\n",
       "      <td>5.000000</td>\n",
       "      <td>8.000000</td>\n",
       "      <td>1.371056e+09</td>\n",
       "    </tr>\n",
       "    <tr>\n",
       "      <td>50%</td>\n",
       "      <td>100.000000</td>\n",
       "      <td>100.000000</td>\n",
       "      <td>100.0</td>\n",
       "      <td>100.0</td>\n",
       "      <td>100.000000</td>\n",
       "      <td>100.000000</td>\n",
       "      <td>100.000000</td>\n",
       "      <td>100.000000</td>\n",
       "      <td>100.000000</td>\n",
       "      <td>100.000000</td>\n",
       "      <td>...</td>\n",
       "      <td>100.0</td>\n",
       "      <td>-7423.060900</td>\n",
       "      <td>4.864852e+06</td>\n",
       "      <td>2.000000</td>\n",
       "      <td>1.000000</td>\n",
       "      <td>129.000000</td>\n",
       "      <td>2.000000</td>\n",
       "      <td>11.000000</td>\n",
       "      <td>13.000000</td>\n",
       "      <td>1.371716e+09</td>\n",
       "    </tr>\n",
       "    <tr>\n",
       "      <td>75%</td>\n",
       "      <td>100.000000</td>\n",
       "      <td>100.000000</td>\n",
       "      <td>100.0</td>\n",
       "      <td>100.0</td>\n",
       "      <td>100.000000</td>\n",
       "      <td>100.000000</td>\n",
       "      <td>100.000000</td>\n",
       "      <td>100.000000</td>\n",
       "      <td>100.000000</td>\n",
       "      <td>100.000000</td>\n",
       "      <td>...</td>\n",
       "      <td>100.0</td>\n",
       "      <td>-7359.193000</td>\n",
       "      <td>4.864930e+06</td>\n",
       "      <td>3.000000</td>\n",
       "      <td>2.000000</td>\n",
       "      <td>207.000000</td>\n",
       "      <td>2.000000</td>\n",
       "      <td>13.000000</td>\n",
       "      <td>14.000000</td>\n",
       "      <td>1.371721e+09</td>\n",
       "    </tr>\n",
       "    <tr>\n",
       "      <td>max</td>\n",
       "      <td>100.000000</td>\n",
       "      <td>100.000000</td>\n",
       "      <td>100.0</td>\n",
       "      <td>100.0</td>\n",
       "      <td>100.000000</td>\n",
       "      <td>100.000000</td>\n",
       "      <td>100.000000</td>\n",
       "      <td>100.000000</td>\n",
       "      <td>100.000000</td>\n",
       "      <td>100.000000</td>\n",
       "      <td>...</td>\n",
       "      <td>100.0</td>\n",
       "      <td>-7300.818990</td>\n",
       "      <td>4.865017e+06</td>\n",
       "      <td>4.000000</td>\n",
       "      <td>2.000000</td>\n",
       "      <td>254.000000</td>\n",
       "      <td>2.000000</td>\n",
       "      <td>18.000000</td>\n",
       "      <td>24.000000</td>\n",
       "      <td>1.371738e+09</td>\n",
       "    </tr>\n",
       "  </tbody>\n",
       "</table>\n",
       "<p>8 rows × 529 columns</p>\n",
       "</div>"
      ],
      "text/plain": [
       "             WAP001        WAP002   WAP003   WAP004        WAP005  \\\n",
       "count  19937.000000  19937.000000  19937.0  19937.0  19937.000000   \n",
       "mean      99.823644     99.820936    100.0    100.0     99.613733   \n",
       "std        5.866842      5.798156      0.0      0.0      8.615657   \n",
       "min      -97.000000    -90.000000    100.0    100.0    -97.000000   \n",
       "25%      100.000000    100.000000    100.0    100.0    100.000000   \n",
       "50%      100.000000    100.000000    100.0    100.0    100.000000   \n",
       "75%      100.000000    100.000000    100.0    100.0    100.000000   \n",
       "max      100.000000    100.000000    100.0    100.0    100.000000   \n",
       "\n",
       "             WAP006        WAP007        WAP008        WAP009        WAP010  \\\n",
       "count  19937.000000  19937.000000  19937.000000  19937.000000  19937.000000   \n",
       "mean      97.130461     94.733661     93.820234     94.693936     99.163766   \n",
       "std       22.931890     30.541335     33.010404     30.305084     12.634045   \n",
       "min      -98.000000    -99.000000    -98.000000    -98.000000    -99.000000   \n",
       "25%      100.000000    100.000000    100.000000    100.000000    100.000000   \n",
       "50%      100.000000    100.000000    100.000000    100.000000    100.000000   \n",
       "75%      100.000000    100.000000    100.000000    100.000000    100.000000   \n",
       "max      100.000000    100.000000    100.000000    100.000000    100.000000   \n",
       "\n",
       "       ...   WAP520     LONGITUDE      LATITUDE         FLOOR    BUILDINGID  \\\n",
       "count  ...  19937.0  19937.000000  1.993700e+04  19937.000000  19937.000000   \n",
       "mean   ...    100.0  -7464.275947  4.864871e+06      1.674575      1.212820   \n",
       "std    ...      0.0    123.402010  6.693318e+01      1.223078      0.833139   \n",
       "min    ...    100.0  -7691.338400  4.864746e+06      0.000000      0.000000   \n",
       "25%    ...    100.0  -7594.737000  4.864821e+06      1.000000      0.000000   \n",
       "50%    ...    100.0  -7423.060900  4.864852e+06      2.000000      1.000000   \n",
       "75%    ...    100.0  -7359.193000  4.864930e+06      3.000000      2.000000   \n",
       "max    ...    100.0  -7300.818990  4.865017e+06      4.000000      2.000000   \n",
       "\n",
       "            SPACEID  RELATIVEPOSITION        USERID       PHONEID  \\\n",
       "count  19937.000000      19937.000000  19937.000000  19937.000000   \n",
       "mean     148.429954          1.833024      9.068014     13.021869   \n",
       "std       58.342106          0.372964      4.988720      5.362410   \n",
       "min        1.000000          1.000000      1.000000      1.000000   \n",
       "25%      110.000000          2.000000      5.000000      8.000000   \n",
       "50%      129.000000          2.000000     11.000000     13.000000   \n",
       "75%      207.000000          2.000000     13.000000     14.000000   \n",
       "max      254.000000          2.000000     18.000000     24.000000   \n",
       "\n",
       "          TIMESTAMP  \n",
       "count  1.993700e+04  \n",
       "mean   1.371421e+09  \n",
       "std    5.572054e+05  \n",
       "min    1.369909e+09  \n",
       "25%    1.371056e+09  \n",
       "50%    1.371716e+09  \n",
       "75%    1.371721e+09  \n",
       "max    1.371738e+09  \n",
       "\n",
       "[8 rows x 529 columns]"
      ]
     },
     "execution_count": 4,
     "metadata": {},
     "output_type": "execute_result"
    }
   ],
   "source": [
    "rawData.describe()"
   ]
  },
  {
   "cell_type": "code",
   "execution_count": 6,
   "metadata": {
    "collapsed": true
   },
   "outputs": [
    {
     "name": "stdout",
     "output_type": "stream",
     "text": [
      "                    WAP001    WAP002  WAP003  WAP004    WAP005    WAP006  \\\n",
      "WAP001            1.000000 -0.000928     NaN     NaN -0.001348 -0.003762   \n",
      "WAP002           -0.000928  1.000000     NaN     NaN -0.001385 -0.003865   \n",
      "WAP003                 NaN       NaN     NaN     NaN       NaN       NaN   \n",
      "WAP004                 NaN       NaN     NaN     NaN       NaN       NaN   \n",
      "WAP005           -0.001348 -0.001385     NaN     NaN  1.000000 -0.005610   \n",
      "...                    ...       ...     ...     ...       ...       ...   \n",
      "SPACEID           0.016777 -0.035616     NaN     NaN  0.008474 -0.146094   \n",
      "RELATIVEPOSITION -0.013458 -0.013827     NaN     NaN  0.043336  0.084678   \n",
      "USERID           -0.011642  0.049948     NaN     NaN -0.023651  0.037283   \n",
      "PHONEID           0.000123 -0.005633     NaN     NaN  0.020221  0.134668   \n",
      "TIMESTAMP         0.063228  0.020383     NaN     NaN -0.024054 -0.066426   \n",
      "\n",
      "                    WAP007    WAP008    WAP009    WAP010  ...  WAP520  \\\n",
      "WAP001           -0.005184  0.004170 -0.005263 -0.001990  ...     NaN   \n",
      "WAP002           -0.005326 -0.005782 -0.005408 -0.002044  ...     NaN   \n",
      "WAP003                 NaN       NaN       NaN       NaN  ...     NaN   \n",
      "WAP004                 NaN       NaN       NaN       NaN  ...     NaN   \n",
      "WAP005           -0.007731 -0.008393 -0.007850 -0.002968  ...     NaN   \n",
      "...                    ...       ...       ...       ...  ...     ...   \n",
      "SPACEID          -0.199881  0.129147 -0.209836  0.131951  ...     NaN   \n",
      "RELATIVEPOSITION -0.062160  0.073497 -0.073372  0.011871  ...     NaN   \n",
      "USERID           -0.066782 -0.034706  0.131440 -0.002092  ...     NaN   \n",
      "PHONEID           0.000703  0.007552 -0.017822 -0.068594  ...     NaN   \n",
      "TIMESTAMP         0.437413 -0.040802  0.227793 -0.035154  ...     NaN   \n",
      "\n",
      "                  LONGITUDE  LATITUDE     FLOOR  BUILDINGID   SPACEID  \\\n",
      "WAP001             0.035730 -0.054910 -0.025719    0.043761  0.016777   \n",
      "WAP002             0.050326 -0.021718 -0.021374    0.044959 -0.035616   \n",
      "WAP003                  NaN       NaN       NaN         NaN       NaN   \n",
      "WAP004                  NaN       NaN       NaN         NaN       NaN   \n",
      "WAP005            -0.054699  0.048553 -0.042142   -0.042362  0.008474   \n",
      "...                     ...       ...       ...         ...       ...   \n",
      "SPACEID           -0.102063 -0.155612 -0.037205   -0.129869  1.000000   \n",
      "RELATIVEPOSITION  -0.151616  0.120937  0.161936   -0.149405  0.042184   \n",
      "USERID             0.347764 -0.227728 -0.185551    0.338069 -0.203930   \n",
      "PHONEID           -0.072975 -0.034537  0.167536   -0.038654 -0.012862   \n",
      "TIMESTAMP          0.758565 -0.694243  0.071441    0.778955 -0.179500   \n",
      "\n",
      "                  RELATIVEPOSITION    USERID   PHONEID  TIMESTAMP  \n",
      "WAP001                   -0.013458 -0.011642  0.000123   0.063228  \n",
      "WAP002                   -0.013827  0.049948 -0.005633   0.020383  \n",
      "WAP003                         NaN       NaN       NaN        NaN  \n",
      "WAP004                         NaN       NaN       NaN        NaN  \n",
      "WAP005                    0.043336 -0.023651  0.020221  -0.024054  \n",
      "...                            ...       ...       ...        ...  \n",
      "SPACEID                   0.042184 -0.203930 -0.012862  -0.179500  \n",
      "RELATIVEPOSITION          1.000000 -0.113595  0.034807  -0.227320  \n",
      "USERID                   -0.113595  1.000000 -0.116192   0.130628  \n",
      "PHONEID                   0.034807 -0.116192  1.000000  -0.029279  \n",
      "TIMESTAMP                -0.227320  0.130628 -0.029279   1.000000  \n",
      "\n",
      "[529 rows x 529 columns]\n"
     ]
    }
   ],
   "source": [
    "corrData = rawData.corr()\n",
    "print(corrData)"
   ]
  },
  {
   "cell_type": "markdown",
   "metadata": {},
   "source": [
    "Removing unneeded features"
   ]
  },
  {
   "cell_type": "code",
   "execution_count": 5,
   "metadata": {},
   "outputs": [],
   "source": [
    "newData = rawData.drop(['BUILDINGID', 'SPACEID', 'RELATIVEPOSITION', 'USERID', 'PHONEID', 'TIMESTAMP'], axis=1)"
   ]
  },
  {
   "cell_type": "code",
   "execution_count": 6,
   "metadata": {},
   "outputs": [
    {
     "data": {
      "text/html": [
       "<div>\n",
       "<style scoped>\n",
       "    .dataframe tbody tr th:only-of-type {\n",
       "        vertical-align: middle;\n",
       "    }\n",
       "\n",
       "    .dataframe tbody tr th {\n",
       "        vertical-align: top;\n",
       "    }\n",
       "\n",
       "    .dataframe thead th {\n",
       "        text-align: right;\n",
       "    }\n",
       "</style>\n",
       "<table border=\"1\" class=\"dataframe\">\n",
       "  <thead>\n",
       "    <tr style=\"text-align: right;\">\n",
       "      <th></th>\n",
       "      <th>WAP001</th>\n",
       "      <th>WAP002</th>\n",
       "      <th>WAP003</th>\n",
       "      <th>WAP004</th>\n",
       "      <th>WAP005</th>\n",
       "      <th>WAP006</th>\n",
       "      <th>WAP007</th>\n",
       "      <th>WAP008</th>\n",
       "      <th>WAP009</th>\n",
       "      <th>WAP010</th>\n",
       "      <th>...</th>\n",
       "      <th>WAP514</th>\n",
       "      <th>WAP515</th>\n",
       "      <th>WAP516</th>\n",
       "      <th>WAP517</th>\n",
       "      <th>WAP518</th>\n",
       "      <th>WAP519</th>\n",
       "      <th>WAP520</th>\n",
       "      <th>LONGITUDE</th>\n",
       "      <th>LATITUDE</th>\n",
       "      <th>FLOOR</th>\n",
       "    </tr>\n",
       "  </thead>\n",
       "  <tbody>\n",
       "    <tr>\n",
       "      <td>0</td>\n",
       "      <td>100</td>\n",
       "      <td>100</td>\n",
       "      <td>100</td>\n",
       "      <td>100</td>\n",
       "      <td>100</td>\n",
       "      <td>100</td>\n",
       "      <td>100</td>\n",
       "      <td>100</td>\n",
       "      <td>100</td>\n",
       "      <td>100</td>\n",
       "      <td>...</td>\n",
       "      <td>100</td>\n",
       "      <td>100</td>\n",
       "      <td>100</td>\n",
       "      <td>100</td>\n",
       "      <td>100</td>\n",
       "      <td>100</td>\n",
       "      <td>100</td>\n",
       "      <td>-7541.2643</td>\n",
       "      <td>4.864921e+06</td>\n",
       "      <td>2</td>\n",
       "    </tr>\n",
       "    <tr>\n",
       "      <td>1</td>\n",
       "      <td>100</td>\n",
       "      <td>100</td>\n",
       "      <td>100</td>\n",
       "      <td>100</td>\n",
       "      <td>100</td>\n",
       "      <td>100</td>\n",
       "      <td>100</td>\n",
       "      <td>100</td>\n",
       "      <td>100</td>\n",
       "      <td>100</td>\n",
       "      <td>...</td>\n",
       "      <td>100</td>\n",
       "      <td>100</td>\n",
       "      <td>100</td>\n",
       "      <td>100</td>\n",
       "      <td>100</td>\n",
       "      <td>100</td>\n",
       "      <td>100</td>\n",
       "      <td>-7536.6212</td>\n",
       "      <td>4.864934e+06</td>\n",
       "      <td>2</td>\n",
       "    </tr>\n",
       "    <tr>\n",
       "      <td>2</td>\n",
       "      <td>100</td>\n",
       "      <td>100</td>\n",
       "      <td>100</td>\n",
       "      <td>100</td>\n",
       "      <td>100</td>\n",
       "      <td>100</td>\n",
       "      <td>100</td>\n",
       "      <td>-97</td>\n",
       "      <td>100</td>\n",
       "      <td>100</td>\n",
       "      <td>...</td>\n",
       "      <td>100</td>\n",
       "      <td>100</td>\n",
       "      <td>100</td>\n",
       "      <td>100</td>\n",
       "      <td>100</td>\n",
       "      <td>100</td>\n",
       "      <td>100</td>\n",
       "      <td>-7519.1524</td>\n",
       "      <td>4.864950e+06</td>\n",
       "      <td>2</td>\n",
       "    </tr>\n",
       "    <tr>\n",
       "      <td>3</td>\n",
       "      <td>100</td>\n",
       "      <td>100</td>\n",
       "      <td>100</td>\n",
       "      <td>100</td>\n",
       "      <td>100</td>\n",
       "      <td>100</td>\n",
       "      <td>100</td>\n",
       "      <td>100</td>\n",
       "      <td>100</td>\n",
       "      <td>100</td>\n",
       "      <td>...</td>\n",
       "      <td>100</td>\n",
       "      <td>100</td>\n",
       "      <td>100</td>\n",
       "      <td>100</td>\n",
       "      <td>100</td>\n",
       "      <td>100</td>\n",
       "      <td>100</td>\n",
       "      <td>-7524.5704</td>\n",
       "      <td>4.864934e+06</td>\n",
       "      <td>2</td>\n",
       "    </tr>\n",
       "    <tr>\n",
       "      <td>4</td>\n",
       "      <td>100</td>\n",
       "      <td>100</td>\n",
       "      <td>100</td>\n",
       "      <td>100</td>\n",
       "      <td>100</td>\n",
       "      <td>100</td>\n",
       "      <td>100</td>\n",
       "      <td>100</td>\n",
       "      <td>100</td>\n",
       "      <td>100</td>\n",
       "      <td>...</td>\n",
       "      <td>100</td>\n",
       "      <td>100</td>\n",
       "      <td>100</td>\n",
       "      <td>100</td>\n",
       "      <td>100</td>\n",
       "      <td>100</td>\n",
       "      <td>100</td>\n",
       "      <td>-7632.1436</td>\n",
       "      <td>4.864982e+06</td>\n",
       "      <td>0</td>\n",
       "    </tr>\n",
       "  </tbody>\n",
       "</table>\n",
       "<p>5 rows × 523 columns</p>\n",
       "</div>"
      ],
      "text/plain": [
       "   WAP001  WAP002  WAP003  WAP004  WAP005  WAP006  WAP007  WAP008  WAP009  \\\n",
       "0     100     100     100     100     100     100     100     100     100   \n",
       "1     100     100     100     100     100     100     100     100     100   \n",
       "2     100     100     100     100     100     100     100     -97     100   \n",
       "3     100     100     100     100     100     100     100     100     100   \n",
       "4     100     100     100     100     100     100     100     100     100   \n",
       "\n",
       "   WAP010  ...  WAP514  WAP515  WAP516  WAP517  WAP518  WAP519  WAP520  \\\n",
       "0     100  ...     100     100     100     100     100     100     100   \n",
       "1     100  ...     100     100     100     100     100     100     100   \n",
       "2     100  ...     100     100     100     100     100     100     100   \n",
       "3     100  ...     100     100     100     100     100     100     100   \n",
       "4     100  ...     100     100     100     100     100     100     100   \n",
       "\n",
       "   LONGITUDE      LATITUDE  FLOOR  \n",
       "0 -7541.2643  4.864921e+06      2  \n",
       "1 -7536.6212  4.864934e+06      2  \n",
       "2 -7519.1524  4.864950e+06      2  \n",
       "3 -7524.5704  4.864934e+06      2  \n",
       "4 -7632.1436  4.864982e+06      0  \n",
       "\n",
       "[5 rows x 523 columns]"
      ]
     },
     "execution_count": 6,
     "metadata": {},
     "output_type": "execute_result"
    }
   ],
   "source": [
    "newData.head()"
   ]
  },
  {
   "cell_type": "markdown",
   "metadata": {},
   "source": [
    "Train/Test Datasets on sample size - default"
   ]
  },
  {
   "cell_type": "code",
   "execution_count": 7,
   "metadata": {},
   "outputs": [],
   "source": [
    "#random sampling to 10,000 observations\n",
    "tenData = newData.sample(n=10000)"
   ]
  },
  {
   "cell_type": "code",
   "execution_count": 8,
   "metadata": {},
   "outputs": [],
   "source": [
    "#select the features\n",
    "X = tenData.drop(['LONGITUDE', 'LATITUDE', 'FLOOR'], axis=1)\n",
    "#select dependent variables\n",
    "y_lon = tenData['LONGITUDE']\n",
    "y_lat = tenData['LATITUDE']\n",
    "y_flo = tenData['FLOOR']"
   ]
  },
  {
   "cell_type": "code",
   "execution_count": 9,
   "metadata": {},
   "outputs": [],
   "source": [
    "#train and test splitting of data for each dependent variable\n",
    "X_trainlon, X_testlon, y_trainlon, y_testlon = train_test_split(X, y_lon, test_size=0.3, random_state=42)\n",
    "X_trainlat, X_testlat, y_trainlat, y_testlat = train_test_split(X, y_lat, test_size=0.3, random_state=42)\n",
    "X_trainflo, X_testflo, y_trainflo, y_testflo = train_test_split(X, y_flo, test_size=0.3, random_state=42)"
   ]
  },
  {
   "cell_type": "code",
   "execution_count": 10,
   "metadata": {},
   "outputs": [
    {
     "data": {
      "text/plain": [
       "((7000, 520), (3000, 520))"
      ]
     },
     "execution_count": 10,
     "metadata": {},
     "output_type": "execute_result"
    }
   ],
   "source": [
    "X_trainflo.shape, X_testflo.shape"
   ]
  },
  {
   "cell_type": "code",
   "execution_count": 11,
   "metadata": {},
   "outputs": [],
   "source": [
    "#scale features\n",
    "sc = StandardScaler()\n",
    "X_trainlon = sc.fit_transform(X_trainlon)\n",
    "X_testlon = sc.transform(X_testlon)\n",
    "\n",
    "sc1 = StandardScaler()\n",
    "X_trainlat = sc1.fit_transform(X_trainlat)\n",
    "X_testlat = sc1.transform(X_testlat)\n",
    "\n",
    "sc2 = StandardScaler()\n",
    "X_trainflo = sc2.fit_transform(X_trainflo)\n",
    "X_testflo = sc2.transform(X_testflo)"
   ]
  },
  {
   "cell_type": "code",
   "execution_count": 12,
   "metadata": {},
   "outputs": [],
   "source": [
    "#remove zero variance features\n",
    "selector = VarianceThreshold()\n",
    "X_trainlonZ = selector.fit_transform(X_trainlon)\n",
    "X_testlonZ = selector.transform(X_testlon)\n",
    "\n",
    "selector1 = VarianceThreshold()\n",
    "X_trainlatZ = selector1.fit_transform(X_trainlat)\n",
    "X_testlatZ = selector1.transform(X_testlat)\n",
    "\n",
    "selector2 = VarianceThreshold()\n",
    "X_trainfloZ = selector2.fit_transform(X_trainflo)\n",
    "X_testfloZ = selector2.transform(X_testflo)"
   ]
  },
  {
   "cell_type": "code",
   "execution_count": 13,
   "metadata": {},
   "outputs": [],
   "source": [
    "#PCA\n",
    "pca=PCA(n_components=20)\n",
    "X_trainlonZP = pca.fit_transform(X_trainlonZ)\n",
    "X_testlonZP = pca.transform(X_testlonZ)\n",
    "\n",
    "pca1=PCA(n_components=20)\n",
    "X_trainlatZP = pca1.fit_transform(X_trainlatZ)\n",
    "X_testlatZP = pca1.transform(X_testlatZ)\n",
    "\n",
    "pca2=PCA(n_components=20)\n",
    "X_trainfloZP = pca2.fit_transform(X_trainfloZ)\n",
    "X_testfloZP = pca2.transform(X_testfloZ)"
   ]
  },
  {
   "cell_type": "code",
   "execution_count": 14,
   "metadata": {},
   "outputs": [
    {
     "data": {
      "text/plain": [
       "((7000, 20), (3000, 20))"
      ]
     },
     "execution_count": 14,
     "metadata": {},
     "output_type": "execute_result"
    }
   ],
   "source": [
    "X_trainfloZP.shape, X_testfloZP.shape"
   ]
  },
  {
   "cell_type": "markdown",
   "metadata": {},
   "source": [
    "Train/Test Datasets on full data"
   ]
  },
  {
   "cell_type": "code",
   "execution_count": 29,
   "metadata": {},
   "outputs": [],
   "source": [
    "#select the features\n",
    "fullX = newData.drop(['LONGITUDE', 'LATITUDE', 'FLOOR'], axis=1)\n",
    "#select dependent variables\n",
    "fully_lon = newData['LONGITUDE']\n",
    "fully_lat = newData['LATITUDE']\n",
    "fully_flo = newData['FLOOR']"
   ]
  },
  {
   "cell_type": "code",
   "execution_count": 30,
   "metadata": {},
   "outputs": [],
   "source": [
    "#train and test splitting of data for each dependent variable\n",
    "fullX_trainlon, fullX_testlon, fully_trainlon, fully_testlon = train_test_split(fullX, fully_lon, test_size=0.3, random_state=42)\n",
    "fullX_trainlat, fullX_testlat, fully_trainlat, fully_testlat = train_test_split(fullX, fully_lat, test_size=0.3, random_state=42)\n",
    "fullX_trainflo, fullX_testflo, fully_trainflo, fully_testflo = train_test_split(fullX, fully_flo, test_size=0.3, random_state=42)"
   ]
  },
  {
   "cell_type": "code",
   "execution_count": 31,
   "metadata": {},
   "outputs": [
    {
     "data": {
      "text/plain": [
       "((13955, 520), (5982, 520))"
      ]
     },
     "execution_count": 31,
     "metadata": {},
     "output_type": "execute_result"
    }
   ],
   "source": [
    "fullX_trainflo.shape, fullX_testflo.shape"
   ]
  },
  {
   "cell_type": "code",
   "execution_count": 32,
   "metadata": {},
   "outputs": [],
   "source": [
    "#scale features\n",
    "sc = StandardScaler()\n",
    "fullX_trainlon = sc.fit_transform(fullX_trainlon)\n",
    "fullX_testlon = sc.transform(fullX_testlon)\n",
    "\n",
    "sc1 = StandardScaler()\n",
    "fullX_trainlat = sc1.fit_transform(fullX_trainlat)\n",
    "fullX_testlat = sc1.transform(fullX_testlat)\n",
    "\n",
    "sc2 = StandardScaler()\n",
    "fullX_trainflo = sc2.fit_transform(fullX_trainflo)\n",
    "fullX_testflo = sc2.transform(fullX_testflo)"
   ]
  },
  {
   "cell_type": "markdown",
   "metadata": {},
   "source": [
    "*1. LONGITUDE*"
   ]
  },
  {
   "cell_type": "markdown",
   "metadata": {},
   "source": [
    "Random Forest - default"
   ]
  },
  {
   "cell_type": "code",
   "execution_count": 30,
   "metadata": {},
   "outputs": [
    {
     "name": "stdout",
     "output_type": "stream",
     "text": [
      "[0.98991426 0.99057894 0.99008271]\n",
      "0.9964604029604118\n"
     ]
    }
   ],
   "source": [
    "lonRF = RandomForestRegressor(n_estimators=100)\n",
    "lonRF.fit(X_trainlon, y_trainlon)\n",
    "print(cross_val_score(lonRF, X_trainlon, y_trainlon, cv=3))\n",
    "print(lonRF.score(X_trainlon, y_trainlon))"
   ]
  },
  {
   "cell_type": "code",
   "execution_count": 34,
   "metadata": {},
   "outputs": [
    {
     "name": "stdout",
     "output_type": "stream",
     "text": [
      "0.9937575724950743\n",
      "9.71826915677412\n"
     ]
    }
   ],
   "source": [
    "pred_lonRF = lonRF.predict(X_testlon)\n",
    "print(r2_score(y_testlon, pred_lonRF))\n",
    "print(sqrt(mean_squared_error(y_testlon, pred_lonRF)))"
   ]
  },
  {
   "cell_type": "markdown",
   "metadata": {},
   "source": [
    "Random Forest - zero var removed & PCA"
   ]
  },
  {
   "cell_type": "code",
   "execution_count": 57,
   "metadata": {},
   "outputs": [
    {
     "name": "stdout",
     "output_type": "stream",
     "text": [
      "[0.99050291 0.99114661 0.99136162]\n",
      "0.9963682779958274\n"
     ]
    }
   ],
   "source": [
    "lonZPRF = RandomForestRegressor(n_estimators=100)\n",
    "lonZPRF.fit(X_trainlonZP, y_trainlon)\n",
    "print(cross_val_score(lonZPRF, X_trainlonZP, y_trainlon, cv=3))\n",
    "print(lonZPRF.score(X_trainlonZP, y_trainlon))"
   ]
  },
  {
   "cell_type": "code",
   "execution_count": 58,
   "metadata": {},
   "outputs": [
    {
     "name": "stdout",
     "output_type": "stream",
     "text": [
      "0.9929175080883149\n",
      "10.351545918881174\n"
     ]
    }
   ],
   "source": [
    "pred_lonZPRF = lonZPRF.predict(X_testlonZP)\n",
    "print(r2_score(y_testlon, pred_lonZPRF))\n",
    "print(sqrt(mean_squared_error(y_testlon, pred_lonZPRF)))"
   ]
  },
  {
   "cell_type": "markdown",
   "metadata": {},
   "source": [
    "Random Forest - tuning on default"
   ]
  },
  {
   "cell_type": "code",
   "execution_count": 88,
   "metadata": {},
   "outputs": [],
   "source": [
    "lonRFgrid = {'max_depth': [90,100,110], 'n_estimators': [100,200,300]}"
   ]
  },
  {
   "cell_type": "code",
   "execution_count": 89,
   "metadata": {
    "collapsed": true
   },
   "outputs": [
    {
     "data": {
      "text/plain": [
       "GridSearchCV(cv=3, error_score=nan,\n",
       "             estimator=RandomForestRegressor(bootstrap=True, ccp_alpha=0.0,\n",
       "                                             criterion='mse', max_depth=None,\n",
       "                                             max_features='auto',\n",
       "                                             max_leaf_nodes=None,\n",
       "                                             max_samples=None,\n",
       "                                             min_impurity_decrease=0.0,\n",
       "                                             min_impurity_split=None,\n",
       "                                             min_samples_leaf=1,\n",
       "                                             min_samples_split=2,\n",
       "                                             min_weight_fraction_leaf=0.0,\n",
       "                                             n_estimators=100, n_jobs=None,\n",
       "                                             oob_score=False, random_state=None,\n",
       "                                             verbose=0, warm_start=False),\n",
       "             iid='deprecated', n_jobs=None,\n",
       "             param_grid={'max_depth': [90, 100, 110],\n",
       "                         'n_estimators': [100, 200, 300]},\n",
       "             pre_dispatch='2*n_jobs', refit=True, return_train_score=False,\n",
       "             scoring=None, verbose=0)"
      ]
     },
     "execution_count": 89,
     "metadata": {},
     "output_type": "execute_result"
    }
   ],
   "source": [
    "searchlonRF = GridSearchCV(lonRF, param_grid=lonRFgrid, cv=3)\n",
    "searchlonRF.fit(X_trainlon, y_trainlon)"
   ]
  },
  {
   "cell_type": "code",
   "execution_count": 90,
   "metadata": {},
   "outputs": [
    {
     "data": {
      "text/plain": [
       "{'max_depth': 90, 'n_estimators': 100}"
      ]
     },
     "execution_count": 90,
     "metadata": {},
     "output_type": "execute_result"
    }
   ],
   "source": [
    "searchlonRF.best_params_"
   ]
  },
  {
   "cell_type": "code",
   "execution_count": 93,
   "metadata": {
    "scrolled": true
   },
   "outputs": [
    {
     "name": "stdout",
     "output_type": "stream",
     "text": [
      "[0.98966136 0.99039661 0.99026782]\n",
      "0.9964408778975882\n"
     ]
    }
   ],
   "source": [
    "lonRFbest = RandomForestRegressor(max_depth=90, n_estimators=100)\n",
    "lonRFbest.fit(X_trainlon, y_trainlon)\n",
    "print(cross_val_score(lonRFbest, X_trainlon, y_trainlon, cv=3))\n",
    "print(lonRFbest.score(X_trainlon, y_trainlon))"
   ]
  },
  {
   "cell_type": "code",
   "execution_count": 94,
   "metadata": {},
   "outputs": [
    {
     "name": "stdout",
     "output_type": "stream",
     "text": [
      "0.9937307183891263\n",
      "9.739150084979926\n"
     ]
    }
   ],
   "source": [
    "pred_lonRFbest = lonRFbest.predict(X_testlon)\n",
    "print(r2_score(y_testlon, pred_lonRFbest))\n",
    "print(sqrt(mean_squared_error(y_testlon, pred_lonRFbest)))"
   ]
  },
  {
   "cell_type": "markdown",
   "metadata": {},
   "source": [
    "Random Forest - tuned on zero var & PCA"
   ]
  },
  {
   "cell_type": "code",
   "execution_count": 100,
   "metadata": {
    "collapsed": true
   },
   "outputs": [
    {
     "data": {
      "text/plain": [
       "GridSearchCV(cv=3, error_score=nan,\n",
       "             estimator=RandomForestRegressor(bootstrap=True, ccp_alpha=0.0,\n",
       "                                             criterion='mse', max_depth=None,\n",
       "                                             max_features='auto',\n",
       "                                             max_leaf_nodes=None,\n",
       "                                             max_samples=None,\n",
       "                                             min_impurity_decrease=0.0,\n",
       "                                             min_impurity_split=None,\n",
       "                                             min_samples_leaf=1,\n",
       "                                             min_samples_split=2,\n",
       "                                             min_weight_fraction_leaf=0.0,\n",
       "                                             n_estimators=100, n_jobs=None,\n",
       "                                             oob_score=False, random_state=None,\n",
       "                                             verbose=0, warm_start=False),\n",
       "             iid='deprecated', n_jobs=None,\n",
       "             param_grid={'max_depth': [90, 100, 110],\n",
       "                         'n_estimators': [100, 200, 300]},\n",
       "             pre_dispatch='2*n_jobs', refit=True, return_train_score=False,\n",
       "             scoring=None, verbose=0)"
      ]
     },
     "execution_count": 100,
     "metadata": {},
     "output_type": "execute_result"
    }
   ],
   "source": [
    "searchlonZPRF = GridSearchCV(lonZPRF, param_grid=lonRFgrid, cv=3)\n",
    "searchlonZPRF.fit(X_trainlonZP, y_trainlon)"
   ]
  },
  {
   "cell_type": "code",
   "execution_count": 101,
   "metadata": {},
   "outputs": [
    {
     "data": {
      "text/plain": [
       "{'max_depth': 90, 'n_estimators': 200}"
      ]
     },
     "execution_count": 101,
     "metadata": {},
     "output_type": "execute_result"
    }
   ],
   "source": [
    "searchlonZPRF.best_params_"
   ]
  },
  {
   "cell_type": "code",
   "execution_count": 102,
   "metadata": {},
   "outputs": [
    {
     "name": "stdout",
     "output_type": "stream",
     "text": [
      "[0.99045978 0.99124118 0.99130493]\n",
      "0.9963836676989895\n"
     ]
    }
   ],
   "source": [
    "lonZPRFbest = RandomForestRegressor(max_depth=90, n_estimators=200)\n",
    "lonZPRFbest.fit(X_trainlonZP, y_trainlon)\n",
    "print(cross_val_score(lonZPRFbest, X_trainlonZP, y_trainlon, cv=3))\n",
    "print(lonZPRFbest.score(X_trainlonZP, y_trainlon))"
   ]
  },
  {
   "cell_type": "code",
   "execution_count": 103,
   "metadata": {},
   "outputs": [
    {
     "name": "stdout",
     "output_type": "stream",
     "text": [
      "0.9929287553702317\n",
      "10.343323317570295\n"
     ]
    }
   ],
   "source": [
    "pred_lonZPRFbest = lonZPRFbest.predict(X_testlonZP)\n",
    "print(r2_score(y_testlon, pred_lonZPRFbest))\n",
    "print(sqrt(mean_squared_error(y_testlon, pred_lonZPRFbest)))"
   ]
  },
  {
   "cell_type": "markdown",
   "metadata": {},
   "source": [
    "Gradient Boosting - default "
   ]
  },
  {
   "cell_type": "code",
   "execution_count": 35,
   "metadata": {},
   "outputs": [
    {
     "name": "stdout",
     "output_type": "stream",
     "text": [
      "[0.96689507 0.96663857 0.96231681]\n",
      "0.9698315852235502\n"
     ]
    }
   ],
   "source": [
    "lonGB = GradientBoostingRegressor(n_estimators=100, random_state=42)\n",
    "lonGB.fit(X_trainlon, y_trainlon)\n",
    "print(cross_val_score(lonGB, X_trainlon, y_trainlon, cv=3))\n",
    "print(lonGB.score(X_trainlon, y_trainlon))"
   ]
  },
  {
   "cell_type": "code",
   "execution_count": 36,
   "metadata": {},
   "outputs": [
    {
     "name": "stdout",
     "output_type": "stream",
     "text": [
      "0.9652546014513239\n",
      "22.927717298353567\n"
     ]
    }
   ],
   "source": [
    "pred_lonGB = lonGB.predict(X_testlon)\n",
    "print(r2_score(y_testlon, pred_lonGB))\n",
    "print(sqrt(mean_squared_error(y_testlon, pred_lonGB)))"
   ]
  },
  {
   "cell_type": "markdown",
   "metadata": {},
   "source": [
    "Gradient Boosting - zero var removed & PCA"
   ]
  },
  {
   "cell_type": "code",
   "execution_count": 59,
   "metadata": {},
   "outputs": [
    {
     "name": "stdout",
     "output_type": "stream",
     "text": [
      "[0.9869227  0.98720282 0.98740928]\n",
      "0.989297818139762\n"
     ]
    }
   ],
   "source": [
    "lonZPGB = GradientBoostingRegressor(n_estimators=100, random_state=42)\n",
    "lonZPGB.fit(X_trainlonZP, y_trainlon)\n",
    "print(cross_val_score(lonZPGB, X_trainlonZP, y_trainlon, cv=3))\n",
    "print(lonZPGB.score(X_trainlonZP, y_trainlon))"
   ]
  },
  {
   "cell_type": "code",
   "execution_count": 60,
   "metadata": {},
   "outputs": [
    {
     "name": "stdout",
     "output_type": "stream",
     "text": [
      "0.9887749781095302\n",
      "13.031840853366157\n"
     ]
    }
   ],
   "source": [
    "pred_lonZPGB = lonZPGB.predict(X_testlonZP)\n",
    "print(r2_score(y_testlon, pred_lonZPGB))\n",
    "print(sqrt(mean_squared_error(y_testlon, pred_lonZPGB)))"
   ]
  },
  {
   "cell_type": "markdown",
   "metadata": {},
   "source": [
    "Gradient Boosting - tuning on zero var & PCA (since better performance metrics)"
   ]
  },
  {
   "cell_type": "code",
   "execution_count": 72,
   "metadata": {},
   "outputs": [],
   "source": [
    "lonGBgrid = {'learning_rate': [0.05, 0.1, 0.5, 1],'max_depth': [90,100,110], 'min_samples_leaf': [3,4],  'n_estimators': [100,200,300]}"
   ]
  },
  {
   "cell_type": "code",
   "execution_count": 73,
   "metadata": {
    "collapsed": true
   },
   "outputs": [
    {
     "data": {
      "text/plain": [
       "GridSearchCV(cv=3, error_score=nan,\n",
       "             estimator=GradientBoostingRegressor(alpha=0.9, ccp_alpha=0.0,\n",
       "                                                 criterion='friedman_mse',\n",
       "                                                 init=None, learning_rate=0.1,\n",
       "                                                 loss='ls', max_depth=3,\n",
       "                                                 max_features=None,\n",
       "                                                 max_leaf_nodes=None,\n",
       "                                                 min_impurity_decrease=0.0,\n",
       "                                                 min_impurity_split=None,\n",
       "                                                 min_samples_leaf=1,\n",
       "                                                 min_samples_split=2,\n",
       "                                                 min_weight_fraction_leaf=0.0,\n",
       "                                                 n_estimators=100,\n",
       "                                                 n_iter_n...\n",
       "                                                 presort='deprecated',\n",
       "                                                 random_state=42, subsample=1.0,\n",
       "                                                 tol=0.0001,\n",
       "                                                 validation_fraction=0.1,\n",
       "                                                 verbose=0, warm_start=False),\n",
       "             iid='deprecated', n_jobs=None,\n",
       "             param_grid={'learning_rate': [0.05, 0.1, 0.5, 1],\n",
       "                         'max_depth': [90, 100, 110],\n",
       "                         'min_samples_leaf': [3, 4],\n",
       "                         'n_estimators': [100, 200, 300]},\n",
       "             pre_dispatch='2*n_jobs', refit=True, return_train_score=False,\n",
       "             scoring=None, verbose=0)"
      ]
     },
     "execution_count": 73,
     "metadata": {},
     "output_type": "execute_result"
    }
   ],
   "source": [
    "searchlonGB = GridSearchCV(lonZPGB, param_grid=lonGBgrid, cv=3)\n",
    "searchlonGB.fit(X_trainlonZP, y_trainlon)"
   ]
  },
  {
   "cell_type": "code",
   "execution_count": 78,
   "metadata": {},
   "outputs": [
    {
     "data": {
      "text/plain": [
       "{'learning_rate': 0.05,\n",
       " 'max_depth': 90,\n",
       " 'min_samples_leaf': 4,\n",
       " 'n_estimators': 300}"
      ]
     },
     "execution_count": 78,
     "metadata": {},
     "output_type": "execute_result"
    }
   ],
   "source": [
    "searchlonGB.best_params_"
   ]
  },
  {
   "cell_type": "code",
   "execution_count": 83,
   "metadata": {},
   "outputs": [
    {
     "name": "stdout",
     "output_type": "stream",
     "text": [
      "[0.99004014 0.99065055 0.99027037]\n",
      "0.9970627635653898\n"
     ]
    }
   ],
   "source": [
    "lonZPGBbest = GradientBoostingRegressor(learning_rate=0.05, max_depth=90, min_samples_leaf=4, n_estimators=300, random_state=42)\n",
    "lonZPGBbest.fit(X_trainlonZP, y_trainlon)\n",
    "print(cross_val_score(lonZPGBbest, X_trainlonZP, y_trainlon, cv=3))\n",
    "print(lonZPGBbest.score(X_trainlonZP, y_trainlon))"
   ]
  },
  {
   "cell_type": "code",
   "execution_count": 84,
   "metadata": {},
   "outputs": [
    {
     "name": "stdout",
     "output_type": "stream",
     "text": [
      "0.9922037983967984\n",
      "10.860597027636782\n"
     ]
    }
   ],
   "source": [
    "pred_lonZPGBbest = lonZPGBbest.predict(X_testlonZP)\n",
    "print(r2_score(y_testlon, pred_lonZPGBbest))\n",
    "print(sqrt(mean_squared_error(y_testlon, pred_lonZPGBbest)))"
   ]
  },
  {
   "cell_type": "markdown",
   "metadata": {},
   "source": [
    "SVR - default"
   ]
  },
  {
   "cell_type": "code",
   "execution_count": 38,
   "metadata": {},
   "outputs": [
    {
     "name": "stdout",
     "output_type": "stream",
     "text": [
      "[0.74811921 0.7129368  0.74974392]\n",
      "0.8080386546192088\n"
     ]
    }
   ],
   "source": [
    "lonSVR = SVR()\n",
    "lonSVR.fit(X_trainlon, y_trainlon)\n",
    "print(cross_val_score(lonSVR, X_trainlon, y_trainlon, cv=3))\n",
    "print(lonSVR.score(X_trainlon, y_trainlon))"
   ]
  },
  {
   "cell_type": "code",
   "execution_count": 39,
   "metadata": {},
   "outputs": [
    {
     "name": "stdout",
     "output_type": "stream",
     "text": [
      "0.8009773323726201\n",
      "54.87359845047181\n"
     ]
    }
   ],
   "source": [
    "pred_lonSVR = lonSVR.predict(X_testlon)\n",
    "print(r2_score(y_testlon, pred_lonSVR))\n",
    "print(sqrt(mean_squared_error(y_testlon, pred_lonSVR)))"
   ]
  },
  {
   "cell_type": "markdown",
   "metadata": {},
   "source": [
    "SVR - zero var removed & PCA"
   ]
  },
  {
   "cell_type": "code",
   "execution_count": 61,
   "metadata": {},
   "outputs": [
    {
     "name": "stdout",
     "output_type": "stream",
     "text": [
      "[0.92809402 0.91823464 0.92560066]\n",
      "0.9409014404497621\n"
     ]
    }
   ],
   "source": [
    "lonZPSVR = SVR()\n",
    "lonZPSVR.fit(X_trainlonZP, y_trainlon)\n",
    "print(cross_val_score(lonZPSVR, X_trainlonZP, y_trainlon, cv=3))\n",
    "print(lonZPSVR.score(X_trainlonZP, y_trainlon))"
   ]
  },
  {
   "cell_type": "code",
   "execution_count": 62,
   "metadata": {},
   "outputs": [
    {
     "name": "stdout",
     "output_type": "stream",
     "text": [
      "0.937213631256749\n",
      "30.82086708042501\n"
     ]
    }
   ],
   "source": [
    "pred_lonZPSVR = lonZPSVR.predict(X_testlonZP)\n",
    "print(r2_score(y_testlon, pred_lonZPSVR))\n",
    "print(sqrt(mean_squared_error(y_testlon, pred_lonZPSVR)))"
   ]
  },
  {
   "cell_type": "markdown",
   "metadata": {},
   "source": [
    "KNN - default"
   ]
  },
  {
   "cell_type": "code",
   "execution_count": 43,
   "metadata": {},
   "outputs": [
    {
     "name": "stdout",
     "output_type": "stream",
     "text": [
      "[0.9898174  0.9900331  0.99084207]\n",
      "0.9953737298396631\n"
     ]
    }
   ],
   "source": [
    "lonKNN = KNeighborsRegressor(n_neighbors=2)\n",
    "lonKNN.fit(X_trainlon, y_trainlon)\n",
    "print(cross_val_score(lonKNN, X_trainlon, y_trainlon, cv=3))\n",
    "print(lonKNN.score(X_trainlon, y_trainlon))"
   ]
  },
  {
   "cell_type": "code",
   "execution_count": 44,
   "metadata": {},
   "outputs": [
    {
     "name": "stdout",
     "output_type": "stream",
     "text": [
      "0.9931636358277817\n",
      "10.170089247802489\n"
     ]
    }
   ],
   "source": [
    "pred_lonKNN = lonKNN.predict(X_testlon)\n",
    "print(r2_score(y_testlon, pred_lonKNN))\n",
    "print(sqrt(mean_squared_error(y_testlon, pred_lonKNN)))"
   ]
  },
  {
   "cell_type": "markdown",
   "metadata": {},
   "source": [
    "KNN - zero var removed & PCA"
   ]
  },
  {
   "cell_type": "code",
   "execution_count": 63,
   "metadata": {},
   "outputs": [
    {
     "name": "stdout",
     "output_type": "stream",
     "text": [
      "[0.9889034  0.99003052 0.98632953]\n",
      "0.9951177551497624\n"
     ]
    }
   ],
   "source": [
    "lonZPKNN = KNeighborsRegressor(n_neighbors=2)\n",
    "lonZPKNN.fit(X_trainlonZP, y_trainlon)\n",
    "print(cross_val_score(lonZPKNN, X_trainlonZP, y_trainlon, cv=3))\n",
    "print(lonZPKNN.score(X_trainlonZP, y_trainlon))"
   ]
  },
  {
   "cell_type": "code",
   "execution_count": 66,
   "metadata": {},
   "outputs": [
    {
     "name": "stdout",
     "output_type": "stream",
     "text": [
      "0.9930920574036719\n",
      "10.22319228445524\n"
     ]
    }
   ],
   "source": [
    "pred_lonZPKNN = lonZPKNN.predict(X_testlonZP)\n",
    "print(r2_score(y_testlon, pred_lonZPKNN))\n",
    "print(sqrt(mean_squared_error(y_testlon, pred_lonZPKNN)))"
   ]
  },
  {
   "cell_type": "markdown",
   "metadata": {},
   "source": [
    "KNN - tuning on default"
   ]
  },
  {
   "cell_type": "code",
   "execution_count": 75,
   "metadata": {},
   "outputs": [],
   "source": [
    "lonKNNgrid = {'n_neighbors':[2,4,6,8,10], 'weights':['uniform','distance']}"
   ]
  },
  {
   "cell_type": "code",
   "execution_count": 76,
   "metadata": {
    "collapsed": true
   },
   "outputs": [
    {
     "data": {
      "text/plain": [
       "GridSearchCV(cv=3, error_score=nan,\n",
       "             estimator=KNeighborsRegressor(algorithm='auto', leaf_size=30,\n",
       "                                           metric='minkowski',\n",
       "                                           metric_params=None, n_jobs=None,\n",
       "                                           n_neighbors=2, p=2,\n",
       "                                           weights='uniform'),\n",
       "             iid='deprecated', n_jobs=None,\n",
       "             param_grid={'n_neighbors': [2, 4, 6, 8, 10],\n",
       "                         'weights': ['uniform', 'distance']},\n",
       "             pre_dispatch='2*n_jobs', refit=True, return_train_score=False,\n",
       "             scoring=None, verbose=0)"
      ]
     },
     "execution_count": 76,
     "metadata": {},
     "output_type": "execute_result"
    }
   ],
   "source": [
    "searchlonKNN = GridSearchCV(lonKNN, param_grid=lonKNNgrid, cv=3)\n",
    "searchlonKNN.fit(X_trainlon, y_trainlon)"
   ]
  },
  {
   "cell_type": "code",
   "execution_count": 77,
   "metadata": {},
   "outputs": [
    {
     "data": {
      "text/plain": [
       "{'n_neighbors': 2, 'weights': 'distance'}"
      ]
     },
     "execution_count": 77,
     "metadata": {},
     "output_type": "execute_result"
    }
   ],
   "source": [
    "searchlonKNN.best_params_"
   ]
  },
  {
   "cell_type": "code",
   "execution_count": 86,
   "metadata": {},
   "outputs": [
    {
     "name": "stdout",
     "output_type": "stream",
     "text": [
      "[0.99033531 0.99025052 0.99092057]\n",
      "0.9967047398043601\n"
     ]
    }
   ],
   "source": [
    "lonKNNbest = KNeighborsRegressor(weights='distance', n_neighbors=2)\n",
    "lonKNNbest.fit(X_trainlon, y_trainlon)\n",
    "print(cross_val_score(lonKNNbest, X_trainlon, y_trainlon, cv=3))\n",
    "print(lonKNNbest.score(X_trainlon, y_trainlon))"
   ]
  },
  {
   "cell_type": "code",
   "execution_count": 87,
   "metadata": {},
   "outputs": [
    {
     "name": "stdout",
     "output_type": "stream",
     "text": [
      "0.9932075735642424\n",
      "10.137354669103663\n"
     ]
    }
   ],
   "source": [
    "pred_lonKNNbest = lonKNNbest.predict(X_testlon)\n",
    "print(r2_score(y_testlon, pred_lonKNNbest))\n",
    "print(sqrt(mean_squared_error(y_testlon, pred_lonKNNbest)))"
   ]
  },
  {
   "cell_type": "markdown",
   "metadata": {},
   "source": [
    "KNN - tuned on zero var & PCA"
   ]
  },
  {
   "cell_type": "code",
   "execution_count": 96,
   "metadata": {
    "collapsed": true
   },
   "outputs": [
    {
     "data": {
      "text/plain": [
       "GridSearchCV(cv=3, error_score=nan,\n",
       "             estimator=KNeighborsRegressor(algorithm='auto', leaf_size=30,\n",
       "                                           metric='minkowski',\n",
       "                                           metric_params=None, n_jobs=None,\n",
       "                                           n_neighbors=2, p=2,\n",
       "                                           weights='uniform'),\n",
       "             iid='deprecated', n_jobs=None,\n",
       "             param_grid={'n_neighbors': [2, 4, 6, 8, 10],\n",
       "                         'weights': ['uniform', 'distance']},\n",
       "             pre_dispatch='2*n_jobs', refit=True, return_train_score=False,\n",
       "             scoring=None, verbose=0)"
      ]
     },
     "execution_count": 96,
     "metadata": {},
     "output_type": "execute_result"
    }
   ],
   "source": [
    "searchlonZPKNN = GridSearchCV(lonZPKNN, param_grid=lonKNNgrid, cv=3)\n",
    "searchlonZPKNN.fit(X_trainlonZP, y_trainlon)"
   ]
  },
  {
   "cell_type": "code",
   "execution_count": 97,
   "metadata": {},
   "outputs": [
    {
     "data": {
      "text/plain": [
       "{'n_neighbors': 6, 'weights': 'distance'}"
      ]
     },
     "execution_count": 97,
     "metadata": {},
     "output_type": "execute_result"
    }
   ],
   "source": [
    "searchlonZPKNN.best_params_"
   ]
  },
  {
   "cell_type": "code",
   "execution_count": 98,
   "metadata": {},
   "outputs": [
    {
     "name": "stdout",
     "output_type": "stream",
     "text": [
      "[0.9913841  0.99135062 0.99041194]\n",
      "0.9970505962605071\n"
     ]
    }
   ],
   "source": [
    "lonZPKNNbest = KNeighborsRegressor(n_neighbors=6, weights='distance')\n",
    "lonZPKNNbest.fit(X_trainlonZP, y_trainlon)\n",
    "print(cross_val_score(lonZPKNNbest, X_trainlonZP, y_trainlon, cv=3))\n",
    "print(lonZPKNNbest.score(X_trainlonZP, y_trainlon))"
   ]
  },
  {
   "cell_type": "code",
   "execution_count": 99,
   "metadata": {},
   "outputs": [
    {
     "name": "stdout",
     "output_type": "stream",
     "text": [
      "0.9933111550436385\n",
      "10.059762648778337\n"
     ]
    }
   ],
   "source": [
    "pred_lonZPKNNbest = lonZPKNNbest.predict(X_testlonZP)\n",
    "print(r2_score(y_testlon, pred_lonZPKNNbest))\n",
    "print(sqrt(mean_squared_error(y_testlon, pred_lonZPKNNbest)))"
   ]
  },
  {
   "cell_type": "markdown",
   "metadata": {},
   "source": [
    "RF (best model) on full Longitude data"
   ]
  },
  {
   "cell_type": "code",
   "execution_count": 33,
   "metadata": {},
   "outputs": [
    {
     "name": "stdout",
     "output_type": "stream",
     "text": [
      "[0.99414438 0.99441686 0.99442061]\n",
      "0.9973557407275191\n"
     ]
    }
   ],
   "source": [
    "lonRFfull = RandomForestRegressor(max_depth=90, n_estimators=100)\n",
    "lonRFfull.fit(fullX_trainlon, fully_trainlon)\n",
    "print(cross_val_score(lonRFfull, fullX_trainlon, fully_trainlon, cv=3))\n",
    "print(lonRFfull.score(fullX_trainlon, fully_trainlon))"
   ]
  },
  {
   "cell_type": "code",
   "execution_count": 34,
   "metadata": {},
   "outputs": [
    {
     "name": "stdout",
     "output_type": "stream",
     "text": [
      "0.9948520813743131\n",
      "8.864778477468587\n"
     ]
    }
   ],
   "source": [
    "pred_lonRFfull = lonRFfull.predict(fullX_testlon)\n",
    "print(r2_score(fully_testlon, pred_lonRFfull))\n",
    "print(sqrt(mean_squared_error(fully_testlon, pred_lonRFfull)))"
   ]
  },
  {
   "cell_type": "markdown",
   "metadata": {},
   "source": [
    "*2. LATITUDE*"
   ]
  },
  {
   "cell_type": "markdown",
   "metadata": {},
   "source": [
    "Random Forest - default"
   ]
  },
  {
   "cell_type": "code",
   "execution_count": 95,
   "metadata": {},
   "outputs": [
    {
     "name": "stdout",
     "output_type": "stream",
     "text": [
      "[0.97944033 0.98168852 0.98379544]\n",
      "0.9942708569867656\n"
     ]
    }
   ],
   "source": [
    "latRF = RandomForestRegressor(n_estimators=100)\n",
    "latRF.fit(X_trainlat, y_trainlat)\n",
    "print(cross_val_score(latRF, X_trainlat, y_trainlat, cv=3))\n",
    "print(latRF.score(X_trainlat, y_trainlat))"
   ]
  },
  {
   "cell_type": "code",
   "execution_count": 104,
   "metadata": {},
   "outputs": [
    {
     "name": "stdout",
     "output_type": "stream",
     "text": [
      "0.9862684181613927\n",
      "7.7978831617998345\n"
     ]
    }
   ],
   "source": [
    "pred_latRF = latRF.predict(X_testlat)\n",
    "print(r2_score(y_testlat, pred_latRF))\n",
    "print(sqrt(mean_squared_error(y_testlat, pred_latRF)))"
   ]
  },
  {
   "cell_type": "markdown",
   "metadata": {},
   "source": [
    "Random Forest - zero var removed & PCA"
   ]
  },
  {
   "cell_type": "code",
   "execution_count": 111,
   "metadata": {},
   "outputs": [
    {
     "name": "stdout",
     "output_type": "stream",
     "text": [
      "[0.97801208 0.98183008 0.97983277]\n",
      "0.9937546221984859\n"
     ]
    }
   ],
   "source": [
    "latZPRF = RandomForestRegressor(n_estimators=100)\n",
    "latZPRF.fit(X_trainlatZP, y_trainlat)\n",
    "print(cross_val_score(latZPRF, X_trainlatZP, y_trainlat, cv=3))\n",
    "print(latZPRF.score(X_trainlatZP, y_trainlat))"
   ]
  },
  {
   "cell_type": "code",
   "execution_count": 112,
   "metadata": {},
   "outputs": [
    {
     "name": "stdout",
     "output_type": "stream",
     "text": [
      "0.9822952333751351\n",
      "8.854449027450132\n"
     ]
    }
   ],
   "source": [
    "pred_latZPRF = latZPRF.predict(X_testlatZP)\n",
    "print(r2_score(y_testlat, pred_latZPRF))\n",
    "print(sqrt(mean_squared_error(y_testlat, pred_latZPRF)))"
   ]
  },
  {
   "cell_type": "markdown",
   "metadata": {},
   "source": [
    "Random Forest - tuned on default"
   ]
  },
  {
   "cell_type": "code",
   "execution_count": 130,
   "metadata": {},
   "outputs": [],
   "source": [
    "latRFgrid = {'max_depth': [90,100,110], 'n_estimators': [100,200,300]}"
   ]
  },
  {
   "cell_type": "code",
   "execution_count": 131,
   "metadata": {
    "collapsed": true
   },
   "outputs": [
    {
     "data": {
      "text/plain": [
       "GridSearchCV(cv=3, error_score=nan,\n",
       "             estimator=RandomForestRegressor(bootstrap=True, ccp_alpha=0.0,\n",
       "                                             criterion='mse', max_depth=None,\n",
       "                                             max_features='auto',\n",
       "                                             max_leaf_nodes=None,\n",
       "                                             max_samples=None,\n",
       "                                             min_impurity_decrease=0.0,\n",
       "                                             min_impurity_split=None,\n",
       "                                             min_samples_leaf=1,\n",
       "                                             min_samples_split=2,\n",
       "                                             min_weight_fraction_leaf=0.0,\n",
       "                                             n_estimators=100, n_jobs=None,\n",
       "                                             oob_score=False, random_state=None,\n",
       "                                             verbose=0, warm_start=False),\n",
       "             iid='deprecated', n_jobs=None,\n",
       "             param_grid={'max_depth': [90, 100, 110],\n",
       "                         'n_estimators': [100, 200, 300]},\n",
       "             pre_dispatch='2*n_jobs', refit=True, return_train_score=False,\n",
       "             scoring=None, verbose=0)"
      ]
     },
     "execution_count": 131,
     "metadata": {},
     "output_type": "execute_result"
    }
   ],
   "source": [
    "searchlatRF = GridSearchCV(latRF, param_grid=latRFgrid, cv=3)\n",
    "searchlatRF.fit(X_trainlat, y_trainlat)"
   ]
  },
  {
   "cell_type": "code",
   "execution_count": 132,
   "metadata": {},
   "outputs": [
    {
     "data": {
      "text/plain": [
       "{'max_depth': 100, 'n_estimators': 300}"
      ]
     },
     "execution_count": 132,
     "metadata": {},
     "output_type": "execute_result"
    }
   ],
   "source": [
    "searchlatRF.best_params_"
   ]
  },
  {
   "cell_type": "code",
   "execution_count": 133,
   "metadata": {},
   "outputs": [
    {
     "name": "stdout",
     "output_type": "stream",
     "text": [
      "[0.97951421 0.98164318 0.98421523]\n",
      "0.9943215987483627\n"
     ]
    }
   ],
   "source": [
    "latRFbest = RandomForestRegressor(max_depth=100, n_estimators=300)\n",
    "latRFbest.fit(X_trainlat, y_trainlat)\n",
    "print(cross_val_score(latRFbest, X_trainlat, y_trainlat, cv=3))\n",
    "print(latRFbest.score(X_trainlat, y_trainlat))"
   ]
  },
  {
   "cell_type": "code",
   "execution_count": 134,
   "metadata": {},
   "outputs": [
    {
     "name": "stdout",
     "output_type": "stream",
     "text": [
      "0.9867856752693428\n",
      "7.64960352432136\n"
     ]
    }
   ],
   "source": [
    "pred_latRFbest = latRFbest.predict(X_testlat)\n",
    "print(r2_score(y_testlat, pred_latRFbest))\n",
    "print(sqrt(mean_squared_error(y_testlat, pred_latRFbest)))"
   ]
  },
  {
   "cell_type": "markdown",
   "metadata": {},
   "source": [
    "Gradient Boosting - default"
   ]
  },
  {
   "cell_type": "code",
   "execution_count": 105,
   "metadata": {},
   "outputs": [
    {
     "name": "stdout",
     "output_type": "stream",
     "text": [
      "[0.94741818 0.94933978 0.94769927]\n",
      "0.9537393150490763\n"
     ]
    }
   ],
   "source": [
    "latGB = GradientBoostingRegressor(n_estimators=100, random_state=42)\n",
    "latGB.fit(X_trainlat, y_trainlat)\n",
    "print(cross_val_score(latGB, X_trainlat, y_trainlat, cv=3))\n",
    "print(latGB.score(X_trainlat, y_trainlat))"
   ]
  },
  {
   "cell_type": "code",
   "execution_count": 106,
   "metadata": {},
   "outputs": [
    {
     "name": "stdout",
     "output_type": "stream",
     "text": [
      "0.9467294812208028\n",
      "15.358892547726914\n"
     ]
    }
   ],
   "source": [
    "pred_latGB = latGB.predict(X_testlat)\n",
    "print(r2_score(y_testlat, pred_latGB))\n",
    "print(sqrt(mean_squared_error(y_testlat, pred_latGB)))"
   ]
  },
  {
   "cell_type": "markdown",
   "metadata": {},
   "source": [
    "Gradient Boosting - zero var removed & PCA"
   ]
  },
  {
   "cell_type": "code",
   "execution_count": 19,
   "metadata": {},
   "outputs": [
    {
     "name": "stdout",
     "output_type": "stream",
     "text": [
      "[0.97426167 0.97259795 0.96941817]\n",
      "0.9762110820417252\n"
     ]
    }
   ],
   "source": [
    "latZPGB = GradientBoostingRegressor(n_estimators=100, random_state=42)\n",
    "latZPGB.fit(X_trainlatZP, y_trainlat)\n",
    "print(cross_val_score(latZPGB, X_trainlatZP, y_trainlat, cv=3))\n",
    "print(latZPGB.score(X_trainlatZP, y_trainlat))"
   ]
  },
  {
   "cell_type": "code",
   "execution_count": 20,
   "metadata": {},
   "outputs": [
    {
     "name": "stdout",
     "output_type": "stream",
     "text": [
      "0.9738823974950241\n",
      "10.951537296199614\n"
     ]
    }
   ],
   "source": [
    "pred_latZPGB = latZPGB.predict(X_testlatZP)\n",
    "print(r2_score(y_testlat, pred_latZPGB))\n",
    "print(sqrt(mean_squared_error(y_testlat, pred_latZPGB)))"
   ]
  },
  {
   "cell_type": "markdown",
   "metadata": {},
   "source": [
    "Gradient Boosting - tuned on zero var removed & PCA"
   ]
  },
  {
   "cell_type": "code",
   "execution_count": 21,
   "metadata": {},
   "outputs": [],
   "source": [
    "latGBgrid = {'learning_rate': [0.05, 0.1, 0.5, 1],'max_depth': [90,100,110], 'min_samples_leaf': [3,4],  'n_estimators': [100,200,300]}"
   ]
  },
  {
   "cell_type": "code",
   "execution_count": 22,
   "metadata": {
    "collapsed": true
   },
   "outputs": [
    {
     "data": {
      "text/plain": [
       "GridSearchCV(cv=3, error_score=nan,\n",
       "             estimator=GradientBoostingRegressor(alpha=0.9, ccp_alpha=0.0,\n",
       "                                                 criterion='friedman_mse',\n",
       "                                                 init=None, learning_rate=0.1,\n",
       "                                                 loss='ls', max_depth=3,\n",
       "                                                 max_features=None,\n",
       "                                                 max_leaf_nodes=None,\n",
       "                                                 min_impurity_decrease=0.0,\n",
       "                                                 min_impurity_split=None,\n",
       "                                                 min_samples_leaf=1,\n",
       "                                                 min_samples_split=2,\n",
       "                                                 min_weight_fraction_leaf=0.0,\n",
       "                                                 n_estimators=100,\n",
       "                                                 n_iter_n...\n",
       "                                                 presort='deprecated',\n",
       "                                                 random_state=42, subsample=1.0,\n",
       "                                                 tol=0.0001,\n",
       "                                                 validation_fraction=0.1,\n",
       "                                                 verbose=0, warm_start=False),\n",
       "             iid='deprecated', n_jobs=None,\n",
       "             param_grid={'learning_rate': [0.05, 0.1, 0.5, 1],\n",
       "                         'max_depth': [90, 100, 110],\n",
       "                         'min_samples_leaf': [3, 4],\n",
       "                         'n_estimators': [100, 200, 300]},\n",
       "             pre_dispatch='2*n_jobs', refit=True, return_train_score=False,\n",
       "             scoring=None, verbose=0)"
      ]
     },
     "execution_count": 22,
     "metadata": {},
     "output_type": "execute_result"
    }
   ],
   "source": [
    "searchlatGB = GridSearchCV(latZPGB, param_grid=latGBgrid, cv=3)\n",
    "searchlatGB.fit(X_trainlatZP, y_trainlat)"
   ]
  },
  {
   "cell_type": "code",
   "execution_count": 23,
   "metadata": {},
   "outputs": [
    {
     "data": {
      "text/plain": [
       "{'learning_rate': 0.05,\n",
       " 'max_depth': 90,\n",
       " 'min_samples_leaf': 4,\n",
       " 'n_estimators': 200}"
      ]
     },
     "execution_count": 23,
     "metadata": {},
     "output_type": "execute_result"
    }
   ],
   "source": [
    "searchlatGB.best_params_"
   ]
  },
  {
   "cell_type": "code",
   "execution_count": 24,
   "metadata": {},
   "outputs": [
    {
     "name": "stdout",
     "output_type": "stream",
     "text": [
      "[0.98233063 0.98171266 0.97917821]\n",
      "0.996910116318198\n"
     ]
    }
   ],
   "source": [
    "latZPGBbest = GradientBoostingRegressor(learning_rate=0.05, max_depth=90, min_samples_leaf=4, n_estimators=200, random_state=42)\n",
    "latZPGBbest.fit(X_trainlatZP, y_trainlat)\n",
    "print(cross_val_score(latZPGBbest, X_trainlatZP, y_trainlat, cv=3))\n",
    "print(latZPGBbest.score(X_trainlatZP, y_trainlat))"
   ]
  },
  {
   "cell_type": "code",
   "execution_count": 25,
   "metadata": {},
   "outputs": [
    {
     "name": "stdout",
     "output_type": "stream",
     "text": [
      "0.9839765623886593\n",
      "8.578004691905043\n"
     ]
    }
   ],
   "source": [
    "pred_latZPGBbest = latZPGBbest.predict(X_testlatZP)\n",
    "print(r2_score(y_testlat, pred_latZPGBbest))\n",
    "print(sqrt(mean_squared_error(y_testlat, pred_latZPGBbest)))"
   ]
  },
  {
   "cell_type": "markdown",
   "metadata": {},
   "source": [
    "SVR - default"
   ]
  },
  {
   "cell_type": "code",
   "execution_count": 107,
   "metadata": {},
   "outputs": [
    {
     "name": "stdout",
     "output_type": "stream",
     "text": [
      "[0.73646016 0.71713362 0.73702153]\n",
      "0.7830674186503042\n"
     ]
    }
   ],
   "source": [
    "latSVR = SVR()\n",
    "latSVR.fit(X_trainlat, y_trainlat)\n",
    "print(cross_val_score(latSVR, X_trainlat, y_trainlat, cv=3))\n",
    "print(latSVR.score(X_trainlat, y_trainlat))"
   ]
  },
  {
   "cell_type": "code",
   "execution_count": 108,
   "metadata": {},
   "outputs": [
    {
     "name": "stdout",
     "output_type": "stream",
     "text": [
      "0.7782851815916303\n",
      "31.333852817137743\n"
     ]
    }
   ],
   "source": [
    "pred_latSVR = latSVR.predict(X_testlat)\n",
    "print(r2_score(y_testlat, pred_latSVR))\n",
    "print(sqrt(mean_squared_error(y_testlat, pred_latSVR)))"
   ]
  },
  {
   "cell_type": "markdown",
   "metadata": {},
   "source": [
    "SVR - zero var removed & PCA"
   ]
  },
  {
   "cell_type": "code",
   "execution_count": 115,
   "metadata": {},
   "outputs": [
    {
     "name": "stdout",
     "output_type": "stream",
     "text": [
      "[0.90391929 0.89882154 0.90186022]\n",
      "0.9218432228662168\n"
     ]
    }
   ],
   "source": [
    "latZPSVR = SVR()\n",
    "latZPSVR.fit(X_trainlatZP, y_trainlat)\n",
    "print(cross_val_score(latZPSVR, X_trainlatZP, y_trainlat, cv=3))\n",
    "print(latZPSVR.score(X_trainlatZP, y_trainlat))"
   ]
  },
  {
   "cell_type": "code",
   "execution_count": 116,
   "metadata": {},
   "outputs": [
    {
     "name": "stdout",
     "output_type": "stream",
     "text": [
      "0.9204339837144749\n",
      "18.770690378699058\n"
     ]
    }
   ],
   "source": [
    "pred_latZPSVR = latZPSVR.predict(X_testlatZP)\n",
    "print(r2_score(y_testlat, pred_latZPSVR))\n",
    "print(sqrt(mean_squared_error(y_testlat, pred_latZPSVR)))"
   ]
  },
  {
   "cell_type": "markdown",
   "metadata": {},
   "source": [
    "KNN - default"
   ]
  },
  {
   "cell_type": "code",
   "execution_count": 109,
   "metadata": {},
   "outputs": [
    {
     "name": "stdout",
     "output_type": "stream",
     "text": [
      "[0.97576719 0.98290294 0.98097598]\n",
      "0.9924696350513256\n"
     ]
    }
   ],
   "source": [
    "latKNN = KNeighborsRegressor(n_neighbors=2)\n",
    "latKNN.fit(X_trainlat, y_trainlat)\n",
    "print(cross_val_score(latKNN, X_trainlat, y_trainlat, cv=3))\n",
    "print(latKNN.score(X_trainlat, y_trainlat))"
   ]
  },
  {
   "cell_type": "code",
   "execution_count": 110,
   "metadata": {},
   "outputs": [
    {
     "name": "stdout",
     "output_type": "stream",
     "text": [
      "0.9864531832482124\n",
      "7.74524334045701\n"
     ]
    }
   ],
   "source": [
    "pred_latKNN = latKNN.predict(X_testlat)\n",
    "print(r2_score(y_testlat, pred_latKNN))\n",
    "print(sqrt(mean_squared_error(y_testlat, pred_latKNN)))"
   ]
  },
  {
   "cell_type": "markdown",
   "metadata": {},
   "source": [
    "KNN - zero var removed & PCA"
   ]
  },
  {
   "cell_type": "code",
   "execution_count": 119,
   "metadata": {},
   "outputs": [
    {
     "name": "stdout",
     "output_type": "stream",
     "text": [
      "[0.97849382 0.98271606 0.97820438]\n",
      "0.9907566134929093\n"
     ]
    }
   ],
   "source": [
    "latZPKNN = KNeighborsRegressor(n_neighbors=2)\n",
    "latZPKNN.fit(X_trainlatZP, y_trainlat)\n",
    "print(cross_val_score(latZPKNN, X_trainlatZP, y_trainlat, cv=3))\n",
    "print(latZPKNN.score(X_trainlatZP, y_trainlat))"
   ]
  },
  {
   "cell_type": "code",
   "execution_count": 120,
   "metadata": {},
   "outputs": [
    {
     "name": "stdout",
     "output_type": "stream",
     "text": [
      "0.9845455218696484\n",
      "8.272630199889274\n"
     ]
    }
   ],
   "source": [
    "pred_latZPKNN = latZPKNN.predict(X_testlatZP)\n",
    "print(r2_score(y_testlat, pred_latZPKNN))\n",
    "print(sqrt(mean_squared_error(y_testlat, pred_latZPKNN)))"
   ]
  },
  {
   "cell_type": "markdown",
   "metadata": {},
   "source": [
    "KNN - tuned on default"
   ]
  },
  {
   "cell_type": "code",
   "execution_count": 121,
   "metadata": {},
   "outputs": [],
   "source": [
    "latKNNgrid = {'n_neighbors':[2,4,6,8,10], 'weights':['uniform','distance']}"
   ]
  },
  {
   "cell_type": "code",
   "execution_count": 122,
   "metadata": {
    "collapsed": true
   },
   "outputs": [
    {
     "data": {
      "text/plain": [
       "GridSearchCV(cv=3, error_score=nan,\n",
       "             estimator=KNeighborsRegressor(algorithm='auto', leaf_size=30,\n",
       "                                           metric='minkowski',\n",
       "                                           metric_params=None, n_jobs=None,\n",
       "                                           n_neighbors=2, p=2,\n",
       "                                           weights='uniform'),\n",
       "             iid='deprecated', n_jobs=None,\n",
       "             param_grid={'n_neighbors': [2, 4, 6, 8, 10],\n",
       "                         'weights': ['uniform', 'distance']},\n",
       "             pre_dispatch='2*n_jobs', refit=True, return_train_score=False,\n",
       "             scoring=None, verbose=0)"
      ]
     },
     "execution_count": 122,
     "metadata": {},
     "output_type": "execute_result"
    }
   ],
   "source": [
    "searchlatKNN = GridSearchCV(latKNN, param_grid=latKNNgrid, cv=3)\n",
    "searchlatKNN.fit(X_trainlat, y_trainlat)"
   ]
  },
  {
   "cell_type": "code",
   "execution_count": 123,
   "metadata": {},
   "outputs": [
    {
     "data": {
      "text/plain": [
       "{'n_neighbors': 2, 'weights': 'distance'}"
      ]
     },
     "execution_count": 123,
     "metadata": {},
     "output_type": "execute_result"
    }
   ],
   "source": [
    "searchlatKNN.best_params_"
   ]
  },
  {
   "cell_type": "code",
   "execution_count": 124,
   "metadata": {},
   "outputs": [
    {
     "name": "stdout",
     "output_type": "stream",
     "text": [
      "[0.97667358 0.98349458 0.98125084]\n",
      "0.9952159290549014\n"
     ]
    }
   ],
   "source": [
    "latKNNbest = KNeighborsRegressor(weights='distance', n_neighbors=2)\n",
    "latKNNbest.fit(X_trainlat, y_trainlat)\n",
    "print(cross_val_score(latKNNbest, X_trainlat, y_trainlat, cv=3))\n",
    "print(latKNNbest.score(X_trainlat, y_trainlat))"
   ]
  },
  {
   "cell_type": "code",
   "execution_count": 125,
   "metadata": {},
   "outputs": [
    {
     "name": "stdout",
     "output_type": "stream",
     "text": [
      "0.9868497820659606\n",
      "7.63102566298852\n"
     ]
    }
   ],
   "source": [
    "pred_latKNNbest = latKNNbest.predict(X_testlat)\n",
    "print(r2_score(y_testlat, pred_latKNNbest))\n",
    "print(sqrt(mean_squared_error(y_testlat, pred_latKNNbest)))"
   ]
  },
  {
   "cell_type": "markdown",
   "metadata": {},
   "source": [
    "KNN - tuned on zero var & PCA"
   ]
  },
  {
   "cell_type": "code",
   "execution_count": 126,
   "metadata": {
    "collapsed": true
   },
   "outputs": [
    {
     "data": {
      "text/plain": [
       "GridSearchCV(cv=3, error_score=nan,\n",
       "             estimator=KNeighborsRegressor(algorithm='auto', leaf_size=30,\n",
       "                                           metric='minkowski',\n",
       "                                           metric_params=None, n_jobs=None,\n",
       "                                           n_neighbors=2, p=2,\n",
       "                                           weights='uniform'),\n",
       "             iid='deprecated', n_jobs=None,\n",
       "             param_grid={'n_neighbors': [2, 4, 6, 8, 10],\n",
       "                         'weights': ['uniform', 'distance']},\n",
       "             pre_dispatch='2*n_jobs', refit=True, return_train_score=False,\n",
       "             scoring=None, verbose=0)"
      ]
     },
     "execution_count": 126,
     "metadata": {},
     "output_type": "execute_result"
    }
   ],
   "source": [
    "searchlatZPKNN = GridSearchCV(latZPKNN, param_grid=latKNNgrid, cv=3)\n",
    "searchlatZPKNN.fit(X_trainlatZP, y_trainlat)"
   ]
  },
  {
   "cell_type": "code",
   "execution_count": 127,
   "metadata": {},
   "outputs": [
    {
     "data": {
      "text/plain": [
       "{'n_neighbors': 4, 'weights': 'distance'}"
      ]
     },
     "execution_count": 127,
     "metadata": {},
     "output_type": "execute_result"
    }
   ],
   "source": [
    "searchlatZPKNN.best_params_"
   ]
  },
  {
   "cell_type": "code",
   "execution_count": 128,
   "metadata": {},
   "outputs": [
    {
     "name": "stdout",
     "output_type": "stream",
     "text": [
      "[0.97989955 0.98326808 0.98152471]\n",
      "0.9952910440512699\n"
     ]
    }
   ],
   "source": [
    "latZPKNNbest = KNeighborsRegressor(n_neighbors=4, weights='distance')\n",
    "latZPKNNbest.fit(X_trainlatZP, y_trainlat)\n",
    "print(cross_val_score(latZPKNNbest, X_trainlatZP, y_trainlat, cv=3))\n",
    "print(latZPKNNbest.score(X_trainlatZP, y_trainlat))"
   ]
  },
  {
   "cell_type": "code",
   "execution_count": 129,
   "metadata": {},
   "outputs": [
    {
     "name": "stdout",
     "output_type": "stream",
     "text": [
      "0.9858991718460415\n",
      "7.902031359836009\n"
     ]
    }
   ],
   "source": [
    "pred_latZPKNNbest = latZPKNNbest.predict(X_testlatZP)\n",
    "print(r2_score(y_testlat, pred_latZPKNNbest))\n",
    "print(sqrt(mean_squared_error(y_testlat, pred_latZPKNNbest)))"
   ]
  },
  {
   "cell_type": "markdown",
   "metadata": {},
   "source": [
    "KNN (best model) on full Latitude data"
   ]
  },
  {
   "cell_type": "code",
   "execution_count": 36,
   "metadata": {},
   "outputs": [
    {
     "name": "stdout",
     "output_type": "stream",
     "text": [
      "[0.98677936 0.98587918 0.98587479]\n",
      "0.9952126840636782\n"
     ]
    }
   ],
   "source": [
    "latKNNfull = KNeighborsRegressor(weights='distance', n_neighbors=2)\n",
    "latKNNfull.fit(fullX_trainlat, fully_trainlat)\n",
    "print(cross_val_score(latKNNfull, fullX_trainlat, fully_trainlat, cv=3))\n",
    "print(latKNNfull.score(fullX_trainlat, fully_trainlat))"
   ]
  },
  {
   "cell_type": "code",
   "execution_count": 37,
   "metadata": {},
   "outputs": [
    {
     "name": "stdout",
     "output_type": "stream",
     "text": [
      "0.9851355364709194\n",
      "8.129667086974786\n"
     ]
    }
   ],
   "source": [
    "pred_latKNNfull = latKNNfull.predict(fullX_testlat)\n",
    "print(r2_score(fully_testlat, pred_latKNNfull))\n",
    "print(sqrt(mean_squared_error(fully_testlat, pred_latKNNfull)))"
   ]
  },
  {
   "cell_type": "markdown",
   "metadata": {},
   "source": [
    "*3. FLOOR (ALTITUDE)*"
   ]
  },
  {
   "cell_type": "markdown",
   "metadata": {},
   "source": [
    "Random Forest - default"
   ]
  },
  {
   "cell_type": "code",
   "execution_count": 27,
   "metadata": {},
   "outputs": [
    {
     "name": "stdout",
     "output_type": "stream",
     "text": [
      "[0.98800343 0.98799829 0.97813973]\n"
     ]
    }
   ],
   "source": [
    "floRF = RandomForestClassifier(n_estimators=100)\n",
    "floRF.fit(X_trainflo, y_trainflo)\n",
    "print(cross_val_score(floRF, X_trainflo, y_trainflo, cv=3))"
   ]
  },
  {
   "cell_type": "code",
   "execution_count": 31,
   "metadata": {},
   "outputs": [
    {
     "name": "stdout",
     "output_type": "stream",
     "text": [
      "              precision    recall  f1-score   support\n",
      "\n",
      "           0       0.99      0.99      0.99       619\n",
      "           1       0.99      0.99      0.99       807\n",
      "           2       0.99      0.98      0.98       678\n",
      "           3       0.98      0.99      0.99       725\n",
      "           4       1.00      0.99      1.00       171\n",
      "\n",
      "    accuracy                           0.99      3000\n",
      "   macro avg       0.99      0.99      0.99      3000\n",
      "weighted avg       0.99      0.99      0.99      3000\n",
      "\n",
      "[[615   0   0   4   0]\n",
      " [  4 799   4   0   0]\n",
      " [  0   7 664   7   0]\n",
      " [  0   0   5 720   0]\n",
      " [  0   0   0   1 170]]\n",
      "0.986187712157101\n"
     ]
    }
   ],
   "source": [
    "pred_floRF = floRF.predict(X_testflo)\n",
    "print(classification_report(y_testflo, pred_floRF))\n",
    "print(confusion_matrix(y_testflo, pred_floRF))\n",
    "print(cohen_kappa_score(y_testflo, pred_floRF))"
   ]
  },
  {
   "cell_type": "markdown",
   "metadata": {},
   "source": [
    "Random Forest - zero var removed & PCA"
   ]
  },
  {
   "cell_type": "code",
   "execution_count": 47,
   "metadata": {},
   "outputs": [
    {
     "name": "stdout",
     "output_type": "stream",
     "text": [
      "[0.90959726 0.92456065 0.90441492]\n"
     ]
    }
   ],
   "source": [
    "floZPRF = RandomForestClassifier(n_estimators=100)\n",
    "floZPRF.fit(X_trainfloZP, y_trainflo)\n",
    "print(cross_val_score(floZPRF, X_trainfloZP, y_trainflo, cv=3))"
   ]
  },
  {
   "cell_type": "code",
   "execution_count": 48,
   "metadata": {},
   "outputs": [
    {
     "name": "stdout",
     "output_type": "stream",
     "text": [
      "              precision    recall  f1-score   support\n",
      "\n",
      "           0       0.94      0.95      0.94       619\n",
      "           1       0.93      0.94      0.94       807\n",
      "           2       0.92      0.88      0.90       678\n",
      "           3       0.88      0.93      0.91       725\n",
      "           4       0.95      0.83      0.89       171\n",
      "\n",
      "    accuracy                           0.92      3000\n",
      "   macro avg       0.93      0.91      0.91      3000\n",
      "weighted avg       0.92      0.92      0.92      3000\n",
      "\n",
      "[[585  34   0   0   0]\n",
      " [ 30 757  17   3   0]\n",
      " [  2  19 597  60   0]\n",
      " [  5   1  36 676   7]\n",
      " [  0   0   0  29 142]]\n",
      "0.8949193127348279\n"
     ]
    }
   ],
   "source": [
    "pred_floZPRF = floZPRF.predict(X_testfloZP)\n",
    "print(classification_report(y_testflo, pred_floZPRF))\n",
    "print(confusion_matrix(y_testflo, pred_floZPRF))\n",
    "print(cohen_kappa_score(y_testflo, pred_floZPRF))"
   ]
  },
  {
   "cell_type": "markdown",
   "metadata": {},
   "source": [
    "Random Forest - tuned on default"
   ]
  },
  {
   "cell_type": "code",
   "execution_count": 61,
   "metadata": {},
   "outputs": [],
   "source": [
    "floRFgrid = {'max_depth': [90,100,110], 'n_estimators': [100,200,300]}"
   ]
  },
  {
   "cell_type": "code",
   "execution_count": 63,
   "metadata": {
    "collapsed": true
   },
   "outputs": [
    {
     "data": {
      "text/plain": [
       "GridSearchCV(cv=3, error_score=nan,\n",
       "             estimator=RandomForestClassifier(bootstrap=True, ccp_alpha=0.0,\n",
       "                                              class_weight=None,\n",
       "                                              criterion='gini', max_depth=None,\n",
       "                                              max_features='auto',\n",
       "                                              max_leaf_nodes=None,\n",
       "                                              max_samples=None,\n",
       "                                              min_impurity_decrease=0.0,\n",
       "                                              min_impurity_split=None,\n",
       "                                              min_samples_leaf=1,\n",
       "                                              min_samples_split=2,\n",
       "                                              min_weight_fraction_leaf=0.0,\n",
       "                                              n_estimators=100, n_jobs=None,\n",
       "                                              oob_score=False,\n",
       "                                              random_state=None, verbose=0,\n",
       "                                              warm_start=False),\n",
       "             iid='deprecated', n_jobs=None,\n",
       "             param_grid={'max_depth': [90, 100, 110],\n",
       "                         'n_estimators': [100, 200, 300]},\n",
       "             pre_dispatch='2*n_jobs', refit=True, return_train_score=False,\n",
       "             scoring=None, verbose=0)"
      ]
     },
     "execution_count": 63,
     "metadata": {},
     "output_type": "execute_result"
    }
   ],
   "source": [
    "searchfloRF = GridSearchCV(floRF, param_grid=floRFgrid, cv=3)\n",
    "searchfloRF.fit(X_trainflo, y_trainflo)"
   ]
  },
  {
   "cell_type": "code",
   "execution_count": 64,
   "metadata": {},
   "outputs": [
    {
     "data": {
      "text/plain": [
       "{'max_depth': 90, 'n_estimators': 200}"
      ]
     },
     "execution_count": 64,
     "metadata": {},
     "output_type": "execute_result"
    }
   ],
   "source": [
    "searchfloRF.best_params_"
   ]
  },
  {
   "cell_type": "code",
   "execution_count": 65,
   "metadata": {},
   "outputs": [
    {
     "name": "stdout",
     "output_type": "stream",
     "text": [
      "[0.98757498 0.98842692 0.98114016]\n"
     ]
    }
   ],
   "source": [
    "floRFbest = RandomForestClassifier(max_depth=90, n_estimators=200)\n",
    "floRFbest.fit(X_trainflo, y_trainflo)\n",
    "print(cross_val_score(floRFbest, X_trainflo, y_trainflo, cv=3))"
   ]
  },
  {
   "cell_type": "code",
   "execution_count": 66,
   "metadata": {},
   "outputs": [
    {
     "name": "stdout",
     "output_type": "stream",
     "text": [
      "              precision    recall  f1-score   support\n",
      "\n",
      "           0       0.99      1.00      0.99       619\n",
      "           1       1.00      0.99      0.99       807\n",
      "           2       0.99      0.98      0.99       678\n",
      "           3       0.99      0.99      0.99       725\n",
      "           4       1.00      0.99      1.00       171\n",
      "\n",
      "    accuracy                           0.99      3000\n",
      "   macro avg       0.99      0.99      0.99      3000\n",
      "weighted avg       0.99      0.99      0.99      3000\n",
      "\n",
      "[[619   0   0   0   0]\n",
      " [  4 799   4   0   0]\n",
      " [  0   4 667   7   0]\n",
      " [  4   0   2 719   0]\n",
      " [  0   0   0   1 170]]\n",
      "0.9887792822970017\n"
     ]
    }
   ],
   "source": [
    "pred_floRFbest = floRFbest.predict(X_testflo)\n",
    "print(classification_report(y_testflo, pred_floRFbest))\n",
    "print(confusion_matrix(y_testflo, pred_floRFbest))\n",
    "print(cohen_kappa_score(y_testflo, pred_floRFbest))"
   ]
  },
  {
   "cell_type": "markdown",
   "metadata": {},
   "source": [
    "Gradient Boosting - default"
   ]
  },
  {
   "cell_type": "code",
   "execution_count": 15,
   "metadata": {},
   "outputs": [
    {
     "name": "stdout",
     "output_type": "stream",
     "text": [
      "[0.95886889 0.95970853 0.95885126]\n"
     ]
    }
   ],
   "source": [
    "floGB = GradientBoostingClassifier(n_estimators=100, random_state=42)\n",
    "floGB.fit(X_trainflo, y_trainflo)\n",
    "print(cross_val_score(floGB, X_trainflo, y_trainflo, cv=3))"
   ]
  },
  {
   "cell_type": "code",
   "execution_count": 16,
   "metadata": {},
   "outputs": [
    {
     "name": "stdout",
     "output_type": "stream",
     "text": [
      "              precision    recall  f1-score   support\n",
      "\n",
      "           0       0.98      0.98      0.98       641\n",
      "           1       0.95      0.96      0.96       765\n",
      "           2       0.96      0.93      0.94       701\n",
      "           3       0.95      0.97      0.96       736\n",
      "           4       0.99      0.96      0.97       157\n",
      "\n",
      "    accuracy                           0.96      3000\n",
      "   macro avg       0.97      0.96      0.96      3000\n",
      "weighted avg       0.96      0.96      0.96      3000\n",
      "\n",
      "[[628  10   3   0   0]\n",
      " [ 13 736  15   1   0]\n",
      " [  0  15 651  34   1]\n",
      " [  1  11   8 715   1]\n",
      " [  0   0   0   6 151]]\n",
      "0.9485804458204976\n"
     ]
    }
   ],
   "source": [
    "pred_floGB = floGB.predict(X_testflo)\n",
    "print(classification_report(y_testflo, pred_floGB))\n",
    "print(confusion_matrix(y_testflo, pred_floGB))\n",
    "print(cohen_kappa_score(y_testflo, pred_floGB))"
   ]
  },
  {
   "cell_type": "markdown",
   "metadata": {},
   "source": [
    "Gradient Boosting - zero var removed & PCA"
   ]
  },
  {
   "cell_type": "code",
   "execution_count": 49,
   "metadata": {},
   "outputs": [
    {
     "name": "stdout",
     "output_type": "stream",
     "text": [
      "[0.8697515  0.89069867 0.86712387]\n"
     ]
    }
   ],
   "source": [
    "floZPGB = GradientBoostingClassifier(n_estimators=100, random_state=42)\n",
    "floZPGB.fit(X_trainfloZP, y_trainflo)\n",
    "print(cross_val_score(floZPGB, X_trainfloZP, y_trainflo, cv=3))"
   ]
  },
  {
   "cell_type": "code",
   "execution_count": 50,
   "metadata": {},
   "outputs": [
    {
     "name": "stdout",
     "output_type": "stream",
     "text": [
      "              precision    recall  f1-score   support\n",
      "\n",
      "           0       0.91      0.92      0.92       619\n",
      "           1       0.89      0.89      0.89       807\n",
      "           2       0.88      0.85      0.87       678\n",
      "           3       0.85      0.89      0.87       725\n",
      "           4       0.93      0.81      0.87       171\n",
      "\n",
      "    accuracy                           0.89      3000\n",
      "   macro avg       0.89      0.88      0.88      3000\n",
      "weighted avg       0.89      0.89      0.89      3000\n",
      "\n",
      "[[572  43   0   4   0]\n",
      " [ 51 722  27   7   0]\n",
      " [  0  31 579  68   0]\n",
      " [  3  13  51 648  10]\n",
      " [  0   0   1  31 139]]\n",
      "0.8529939511334599\n"
     ]
    }
   ],
   "source": [
    "pred_floZPGB = floZPGB.predict(X_testfloZP)\n",
    "print(classification_report(y_testflo, pred_floZPGB))\n",
    "print(confusion_matrix(y_testflo, pred_floZPGB))\n",
    "print(cohen_kappa_score(y_testflo, pred_floZPGB))"
   ]
  },
  {
   "cell_type": "markdown",
   "metadata": {},
   "source": [
    "Gradient Boosting - tuned on default"
   ]
  },
  {
   "cell_type": "code",
   "execution_count": 17,
   "metadata": {},
   "outputs": [],
   "source": [
    "floGBgrid = {'learning_rate': [0.05, 0.1, 0.5],'max_depth': [90,100,110], 'n_estimators': [100,200]}"
   ]
  },
  {
   "cell_type": "code",
   "execution_count": 18,
   "metadata": {
    "collapsed": true
   },
   "outputs": [
    {
     "data": {
      "text/plain": [
       "GridSearchCV(cv=3, error_score=nan,\n",
       "             estimator=GradientBoostingClassifier(ccp_alpha=0.0,\n",
       "                                                  criterion='friedman_mse',\n",
       "                                                  init=None, learning_rate=0.1,\n",
       "                                                  loss='deviance', max_depth=3,\n",
       "                                                  max_features=None,\n",
       "                                                  max_leaf_nodes=None,\n",
       "                                                  min_impurity_decrease=0.0,\n",
       "                                                  min_impurity_split=None,\n",
       "                                                  min_samples_leaf=1,\n",
       "                                                  min_samples_split=2,\n",
       "                                                  min_weight_fraction_leaf=0.0,\n",
       "                                                  n_estimators=100,\n",
       "                                                  n_iter_no_change=None,\n",
       "                                                  presort='deprecated',\n",
       "                                                  random_state=42,\n",
       "                                                  subsample=1.0, tol=0.0001,\n",
       "                                                  validation_fraction=0.1,\n",
       "                                                  verbose=0, warm_start=False),\n",
       "             iid='deprecated', n_jobs=None,\n",
       "             param_grid={'learning_rate': [0.05, 0.1, 0.5],\n",
       "                         'max_depth': [90, 100, 110],\n",
       "                         'n_estimators': [100, 200]},\n",
       "             pre_dispatch='2*n_jobs', refit=True, return_train_score=False,\n",
       "             scoring=None, verbose=0)"
      ]
     },
     "execution_count": 18,
     "metadata": {},
     "output_type": "execute_result"
    }
   ],
   "source": [
    "searchfloGB = GridSearchCV(floGB, param_grid=floGBgrid, cv=3)\n",
    "searchfloGB.fit(X_trainflo, y_trainflo)"
   ]
  },
  {
   "cell_type": "code",
   "execution_count": 19,
   "metadata": {},
   "outputs": [
    {
     "data": {
      "text/plain": [
       "{'learning_rate': 0.5, 'max_depth': 110, 'n_estimators': 200}"
      ]
     },
     "execution_count": 19,
     "metadata": {},
     "output_type": "execute_result"
    }
   ],
   "source": [
    "searchfloGB.best_params_"
   ]
  },
  {
   "cell_type": "code",
   "execution_count": 20,
   "metadata": {},
   "outputs": [
    {
     "name": "stdout",
     "output_type": "stream",
     "text": [
      "[0.9798629  0.9777111  0.95199314]\n"
     ]
    }
   ],
   "source": [
    "floGBbest = GradientBoostingClassifier(learning_rate=0.5, max_depth=110, n_estimators=200, random_state=42)\n",
    "floGBbest.fit(X_trainflo, y_trainflo)\n",
    "print(cross_val_score(floGBbest, X_trainflo, y_trainflo, cv=3))"
   ]
  },
  {
   "cell_type": "code",
   "execution_count": 21,
   "metadata": {},
   "outputs": [
    {
     "name": "stdout",
     "output_type": "stream",
     "text": [
      "              precision    recall  f1-score   support\n",
      "\n",
      "           0       0.97      0.99      0.98       641\n",
      "           1       0.99      0.98      0.99       765\n",
      "           2       0.99      0.98      0.99       701\n",
      "           3       0.99      0.99      0.99       736\n",
      "           4       0.99      0.97      0.98       157\n",
      "\n",
      "    accuracy                           0.99      3000\n",
      "   macro avg       0.99      0.98      0.98      3000\n",
      "weighted avg       0.99      0.99      0.99      3000\n",
      "\n",
      "[[637   4   0   0   0]\n",
      " [  9 752   3   1   0]\n",
      " [  0   5 690   5   1]\n",
      " [  9   0   1 725   1]\n",
      " [  0   0   0   5 152]]\n",
      "0.9809951952398147\n"
     ]
    }
   ],
   "source": [
    "pred_floGBbest = floGBbest.predict(X_testflo)\n",
    "print(classification_report(y_testflo, pred_floGBbest))\n",
    "print(confusion_matrix(y_testflo, pred_floGBbest))\n",
    "print(cohen_kappa_score(y_testflo, pred_floGBbest))"
   ]
  },
  {
   "cell_type": "markdown",
   "metadata": {},
   "source": [
    "SVC - default"
   ]
  },
  {
   "cell_type": "code",
   "execution_count": 24,
   "metadata": {},
   "outputs": [
    {
     "name": "stdout",
     "output_type": "stream",
     "text": [
      "[0.9335904  0.93184741 0.93656237]\n"
     ]
    }
   ],
   "source": [
    "floSVC = SVC()\n",
    "floSVC.fit(X_trainflo, y_trainflo)\n",
    "print(cross_val_score(floSVC, X_trainflo, y_trainflo, cv=3))"
   ]
  },
  {
   "cell_type": "code",
   "execution_count": 35,
   "metadata": {},
   "outputs": [
    {
     "name": "stdout",
     "output_type": "stream",
     "text": [
      "              precision    recall  f1-score   support\n",
      "\n",
      "           0       0.96      0.98      0.97       619\n",
      "           1       0.96      0.94      0.95       807\n",
      "           2       0.92      0.93      0.92       678\n",
      "           3       0.94      0.95      0.94       725\n",
      "           4       0.99      0.93      0.96       171\n",
      "\n",
      "    accuracy                           0.95      3000\n",
      "   macro avg       0.95      0.95      0.95      3000\n",
      "weighted avg       0.95      0.95      0.95      3000\n",
      "\n",
      "[[604  14   1   0   0]\n",
      " [ 20 762  19   6   0]\n",
      " [  2  16 629  31   0]\n",
      " [  5   0  31 688   1]\n",
      " [  0   0   3   9 159]]\n",
      "0.9317758164844309\n"
     ]
    }
   ],
   "source": [
    "pred_floSVC = floSVC.predict(X_testflo)\n",
    "print(classification_report(y_testflo, pred_floSVC))\n",
    "print(confusion_matrix(y_testflo, pred_floSVC))\n",
    "print(cohen_kappa_score(y_testflo, pred_floSVC))"
   ]
  },
  {
   "cell_type": "markdown",
   "metadata": {},
   "source": [
    "SVC - zero var removed & PCA"
   ]
  },
  {
   "cell_type": "code",
   "execution_count": 51,
   "metadata": {},
   "outputs": [
    {
     "name": "stdout",
     "output_type": "stream",
     "text": [
      "[0.87275064 0.88084012 0.86926704]\n"
     ]
    }
   ],
   "source": [
    "floZPSVC = SVC()\n",
    "floZPSVC.fit(X_trainfloZP, y_trainflo)\n",
    "print(cross_val_score(floZPSVC, X_trainfloZP, y_trainflo, cv=3))"
   ]
  },
  {
   "cell_type": "code",
   "execution_count": 52,
   "metadata": {},
   "outputs": [
    {
     "name": "stdout",
     "output_type": "stream",
     "text": [
      "              precision    recall  f1-score   support\n",
      "\n",
      "           0       0.92      0.94      0.93       619\n",
      "           1       0.92      0.89      0.91       807\n",
      "           2       0.87      0.84      0.85       678\n",
      "           3       0.82      0.92      0.87       725\n",
      "           4       0.98      0.73      0.83       171\n",
      "\n",
      "    accuracy                           0.89      3000\n",
      "   macro avg       0.90      0.86      0.88      3000\n",
      "weighted avg       0.89      0.89      0.89      3000\n",
      "\n",
      "[[582  33   0   4   0]\n",
      " [ 50 718  32   7   0]\n",
      " [  2  22 567  87   0]\n",
      " [  1   4  52 665   3]\n",
      " [  0   0   0  47 124]]\n",
      "0.8510726019622339\n"
     ]
    }
   ],
   "source": [
    "pred_floZPSVC = floZPSVC.predict(X_testfloZP)\n",
    "print(classification_report(y_testflo, pred_floZPSVC))\n",
    "print(confusion_matrix(y_testflo, pred_floZPSVC))\n",
    "print(cohen_kappa_score(y_testflo, pred_floZPSVC))"
   ]
  },
  {
   "cell_type": "markdown",
   "metadata": {},
   "source": [
    "SVC - tuned on default"
   ]
  },
  {
   "cell_type": "code",
   "execution_count": 22,
   "metadata": {},
   "outputs": [],
   "source": [
    "floSVCgrid = {'C': [0.1,1,10], 'kernel':['linear','rbf']}"
   ]
  },
  {
   "cell_type": "code",
   "execution_count": 25,
   "metadata": {
    "collapsed": true
   },
   "outputs": [
    {
     "data": {
      "text/plain": [
       "GridSearchCV(cv=3, error_score=nan,\n",
       "             estimator=SVC(C=1.0, break_ties=False, cache_size=200,\n",
       "                           class_weight=None, coef0=0.0,\n",
       "                           decision_function_shape='ovr', degree=3,\n",
       "                           gamma='scale', kernel='rbf', max_iter=-1,\n",
       "                           probability=False, random_state=None, shrinking=True,\n",
       "                           tol=0.001, verbose=False),\n",
       "             iid='deprecated', n_jobs=None,\n",
       "             param_grid={'C': [0.1, 1, 10], 'kernel': ['linear', 'rbf']},\n",
       "             pre_dispatch='2*n_jobs', refit=True, return_train_score=False,\n",
       "             scoring=None, verbose=0)"
      ]
     },
     "execution_count": 25,
     "metadata": {},
     "output_type": "execute_result"
    }
   ],
   "source": [
    "searchfloSVC = GridSearchCV(floSVC, param_grid=floSVCgrid, cv=3)\n",
    "searchfloSVC.fit(X_trainflo, y_trainflo)"
   ]
  },
  {
   "cell_type": "code",
   "execution_count": 26,
   "metadata": {},
   "outputs": [
    {
     "data": {
      "text/plain": [
       "{'C': 10, 'kernel': 'rbf'}"
      ]
     },
     "execution_count": 26,
     "metadata": {},
     "output_type": "execute_result"
    }
   ],
   "source": [
    "searchfloSVC.best_params_"
   ]
  },
  {
   "cell_type": "code",
   "execution_count": 27,
   "metadata": {},
   "outputs": [
    {
     "name": "stdout",
     "output_type": "stream",
     "text": [
      "[0.94344473 0.93784826 0.94427775]\n"
     ]
    }
   ],
   "source": [
    "floSVCbest = SVC(C=10, kernel='rbf', random_state=42)\n",
    "floSVCbest.fit(X_trainflo, y_trainflo)\n",
    "print(cross_val_score(floSVCbest, X_trainflo, y_trainflo, cv=3))"
   ]
  },
  {
   "cell_type": "code",
   "execution_count": 28,
   "metadata": {},
   "outputs": [
    {
     "name": "stdout",
     "output_type": "stream",
     "text": [
      "              precision    recall  f1-score   support\n",
      "\n",
      "           0       0.96      0.97      0.97       641\n",
      "           1       0.96      0.95      0.95       765\n",
      "           2       0.92      0.95      0.94       701\n",
      "           3       0.97      0.94      0.95       736\n",
      "           4       0.98      0.98      0.98       157\n",
      "\n",
      "    accuracy                           0.95      3000\n",
      "   macro avg       0.96      0.96      0.96      3000\n",
      "weighted avg       0.95      0.95      0.95      3000\n",
      "\n",
      "[[624  16   1   0   0]\n",
      " [ 14 724  25   2   0]\n",
      " [  0  12 669  20   0]\n",
      " [  9   1  30 693   3]\n",
      " [  0   0   0   3 154]]\n",
      "0.9412772711663053\n"
     ]
    }
   ],
   "source": [
    "pred_floSVCbest = floSVCbest.predict(X_testflo)\n",
    "print(classification_report(y_testflo, pred_floSVCbest))\n",
    "print(confusion_matrix(y_testflo, pred_floSVCbest))\n",
    "print(cohen_kappa_score(y_testflo, pred_floSVCbest))"
   ]
  },
  {
   "cell_type": "markdown",
   "metadata": {},
   "source": [
    "KNN - default"
   ]
  },
  {
   "cell_type": "code",
   "execution_count": 45,
   "metadata": {},
   "outputs": [
    {
     "name": "stdout",
     "output_type": "stream",
     "text": [
      "[0.90659811 0.91170167 0.90527218]\n"
     ]
    }
   ],
   "source": [
    "floKNN = KNeighborsClassifier(n_neighbors=3)\n",
    "floKNN.fit(X_trainflo, y_trainflo)\n",
    "print(cross_val_score(floKNN, X_trainflo, y_trainflo, cv=3))"
   ]
  },
  {
   "cell_type": "code",
   "execution_count": 46,
   "metadata": {},
   "outputs": [
    {
     "name": "stdout",
     "output_type": "stream",
     "text": [
      "              precision    recall  f1-score   support\n",
      "\n",
      "           0       0.90      0.99      0.94       619\n",
      "           1       0.94      0.92      0.93       807\n",
      "           2       0.93      0.86      0.89       678\n",
      "           3       0.91      0.93      0.92       725\n",
      "           4       0.98      0.96      0.97       171\n",
      "\n",
      "    accuracy                           0.93      3000\n",
      "   macro avg       0.93      0.93      0.93      3000\n",
      "weighted avg       0.93      0.93      0.92      3000\n",
      "\n",
      "[[611   7   1   0   0]\n",
      " [ 44 742  15   5   1]\n",
      " [ 13  32 580  53   0]\n",
      " [  8  11  27 677   2]\n",
      " [  0   0   1   5 165]]\n",
      "0.9029351267278986\n"
     ]
    }
   ],
   "source": [
    "pred_floKNN = floKNN.predict(X_testflo)\n",
    "print(classification_report(y_testflo, pred_floKNN))\n",
    "print(confusion_matrix(y_testflo, pred_floKNN))\n",
    "print(cohen_kappa_score(y_testflo, pred_floKNN))"
   ]
  },
  {
   "cell_type": "markdown",
   "metadata": {},
   "source": [
    "KNN - zero var removed & PCA"
   ]
  },
  {
   "cell_type": "code",
   "execution_count": 59,
   "metadata": {},
   "outputs": [
    {
     "name": "stdout",
     "output_type": "stream",
     "text": [
      "[0.89717224 0.90784398 0.88812688]\n"
     ]
    }
   ],
   "source": [
    "floZPKNN = KNeighborsClassifier(n_neighbors=3)\n",
    "floZPKNN.fit(X_trainfloZP, y_trainflo)\n",
    "print(cross_val_score(floZPKNN, X_trainfloZP, y_trainflo, cv=3))"
   ]
  },
  {
   "cell_type": "code",
   "execution_count": 60,
   "metadata": {},
   "outputs": [
    {
     "name": "stdout",
     "output_type": "stream",
     "text": [
      "              precision    recall  f1-score   support\n",
      "\n",
      "           0       0.92      0.96      0.94       619\n",
      "           1       0.93      0.91      0.92       807\n",
      "           2       0.90      0.86      0.88       678\n",
      "           3       0.88      0.91      0.90       725\n",
      "           4       0.96      0.88      0.92       171\n",
      "\n",
      "    accuracy                           0.91      3000\n",
      "   macro avg       0.92      0.91      0.91      3000\n",
      "weighted avg       0.91      0.91      0.91      3000\n",
      "\n",
      "[[595  24   0   0   0]\n",
      " [ 45 735  23   4   0]\n",
      " [  2  26 585  65   0]\n",
      " [  8   7  41 662   7]\n",
      " [  0   0   2  18 151]]\n",
      "0.8825406627384004\n"
     ]
    }
   ],
   "source": [
    "pred_floZPKNN = floZPKNN.predict(X_testfloZP)\n",
    "print(classification_report(y_testflo, pred_floZPKNN))\n",
    "print(confusion_matrix(y_testflo, pred_floZPKNN))\n",
    "print(cohen_kappa_score(y_testflo, pred_floZPKNN))"
   ]
  },
  {
   "cell_type": "markdown",
   "metadata": {},
   "source": [
    "RF (best model) on full Floor data"
   ]
  },
  {
   "cell_type": "code",
   "execution_count": 38,
   "metadata": {},
   "outputs": [
    {
     "name": "stdout",
     "output_type": "stream",
     "text": [
      "[0.99441101 0.99290628 0.99118469]\n"
     ]
    }
   ],
   "source": [
    "floRFfull = RandomForestClassifier(max_depth=90, n_estimators=200)\n",
    "floRFfull.fit(fullX_trainflo, fully_trainflo)\n",
    "print(cross_val_score(floRFfull, fullX_trainflo, fully_trainflo, cv=3))"
   ]
  },
  {
   "cell_type": "code",
   "execution_count": 39,
   "metadata": {},
   "outputs": [
    {
     "name": "stdout",
     "output_type": "stream",
     "text": [
      "              precision    recall  f1-score   support\n",
      "\n",
      "           0       0.99      1.00      0.99      1316\n",
      "           1       0.99      1.00      1.00      1492\n",
      "           2       1.00      0.99      1.00      1357\n",
      "           3       1.00      0.99      0.99      1479\n",
      "           4       1.00      0.99      1.00       338\n",
      "\n",
      "    accuracy                           0.99      5982\n",
      "   macro avg       1.00      0.99      0.99      5982\n",
      "weighted avg       0.99      0.99      0.99      5982\n",
      "\n",
      "[[1311    5    0    0    0]\n",
      " [   2 1489    1    0    0]\n",
      " [   0    4 1349    4    0]\n",
      " [  14    0    1 1464    0]\n",
      " [   0    0    0    2  336]]\n",
      "0.9928687881365095\n"
     ]
    }
   ],
   "source": [
    "pred_floRFfull = floRFfull.predict(fullX_testflo)\n",
    "print(classification_report(fully_testflo, pred_floRFfull))\n",
    "print(confusion_matrix(fully_testflo, pred_floRFfull))\n",
    "print(cohen_kappa_score(fully_testflo, pred_floRFfull))"
   ]
  }
 ],
 "metadata": {
  "kernelspec": {
   "display_name": "Python 3",
   "language": "python",
   "name": "python3"
  },
  "language_info": {
   "codemirror_mode": {
    "name": "ipython",
    "version": 3
   },
   "file_extension": ".py",
   "mimetype": "text/x-python",
   "name": "python",
   "nbconvert_exporter": "python",
   "pygments_lexer": "ipython3",
   "version": "3.7.4"
  }
 },
 "nbformat": 4,
 "nbformat_minor": 2
}
